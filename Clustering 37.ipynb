{
 "cells": [
  {
   "cell_type": "markdown",
   "metadata": {},
   "source": [
    "# Скрипт для проведения кластеризации\n",
    "Данный скрипт позволяет выполнить иерархическую кластеризацию и методом k-средних. Для выполнения кластеризации замените только название файла и количество кластеров, которые планируете найти."
   ]
  },
  {
   "cell_type": "code",
   "execution_count": 1,
   "metadata": {},
   "outputs": [],
   "source": [
    "# загрузим библиотеки\n",
    "# данные библиотеки являются стандартными для пакета Anaconda\n",
    "import pandas as pd\n",
    "from scipy.spatial.distance import pdist\n",
    "from scipy.cluster.hierarchy import *\n",
    "from matplotlib import pyplot as plt\n",
    "from matplotlib import rc\n",
    "import numpy as np\n",
    "from sklearn.cluster import KMeans\n",
    "#данная строчка нужна для корректного отображения графиков\n",
    "%matplotlib inline "
   ]
  },
  {
   "cell_type": "code",
   "execution_count": 2,
   "metadata": {},
   "outputs": [
    {
     "data": {
      "text/html": [
       "<div>\n",
       "<style scoped>\n",
       "    .dataframe tbody tr th:only-of-type {\n",
       "        vertical-align: middle;\n",
       "    }\n",
       "\n",
       "    .dataframe tbody tr th {\n",
       "        vertical-align: top;\n",
       "    }\n",
       "\n",
       "    .dataframe thead th {\n",
       "        text-align: right;\n",
       "    }\n",
       "</style>\n",
       "<table border=\"1\" class=\"dataframe\">\n",
       "  <thead>\n",
       "    <tr style=\"text-align: right;\">\n",
       "      <th></th>\n",
       "      <th>Имя</th>\n",
       "      <th>Чек</th>\n",
       "      <th>Статус</th>\n",
       "      <th>Заказы</th>\n",
       "      <th>Расстояние</th>\n",
       "    </tr>\n",
       "  </thead>\n",
       "  <tbody>\n",
       "    <tr>\n",
       "      <th>0</th>\n",
       "      <td>Клиент 1</td>\n",
       "      <td>128.000000</td>\n",
       "      <td>0</td>\n",
       "      <td>1</td>\n",
       "      <td>10</td>\n",
       "    </tr>\n",
       "    <tr>\n",
       "      <th>1</th>\n",
       "      <td>Клиент 2</td>\n",
       "      <td>579.333333</td>\n",
       "      <td>0</td>\n",
       "      <td>3</td>\n",
       "      <td>4</td>\n",
       "    </tr>\n",
       "    <tr>\n",
       "      <th>2</th>\n",
       "      <td>Клиент 3</td>\n",
       "      <td>376.666667</td>\n",
       "      <td>0</td>\n",
       "      <td>6</td>\n",
       "      <td>21</td>\n",
       "    </tr>\n",
       "    <tr>\n",
       "      <th>3</th>\n",
       "      <td>Клиент 4</td>\n",
       "      <td>296.296000</td>\n",
       "      <td>0</td>\n",
       "      <td>1</td>\n",
       "      <td>10</td>\n",
       "    </tr>\n",
       "    <tr>\n",
       "      <th>4</th>\n",
       "      <td>Клиент 5</td>\n",
       "      <td>111.250000</td>\n",
       "      <td>1</td>\n",
       "      <td>16</td>\n",
       "      <td>17</td>\n",
       "    </tr>\n",
       "  </tbody>\n",
       "</table>\n",
       "</div>"
      ],
      "text/plain": [
       "        Имя         Чек  Статус  Заказы  Расстояние\n",
       "0  Клиент 1  128.000000       0       1          10\n",
       "1  Клиент 2  579.333333       0       3           4\n",
       "2  Клиент 3  376.666667       0       6          21\n",
       "3  Клиент 4  296.296000       0       1          10\n",
       "4  Клиент 5  111.250000       1      16          17"
      ]
     },
     "execution_count": 2,
     "metadata": {},
     "output_type": "execute_result"
    }
   ],
   "source": [
    "# Загрузим данные из xls документа\n",
    "# При необходимости надо изменить название файла и листа, на котором находятся данные\n",
    "# Проще всего файл положить в папку, где находиться и сам скрипт. В это случае укажите только название\n",
    "# sheet_name - название листа, с котрого надо загрузить данные\n",
    "data = pd.read_excel('ClustATI0011.xlsx', sheet_name='Лист1')\n",
    "# команда data.head() выводит первые пять строчек загруженных в переменную дата данных\n",
    "data.head()"
   ]
  },
  {
   "cell_type": "markdown",
   "metadata": {},
   "source": [
    "# Изучение структуры данных\n",
    "Следующие действия не относятся напрямую к поиску кластеров, но лучшее понимание данных позволяет более качественно выполнить кластеризацию."
   ]
  },
  {
   "cell_type": "code",
   "execution_count": 3,
   "metadata": {},
   "outputs": [
    {
     "data": {
      "text/html": [
       "<div>\n",
       "<style scoped>\n",
       "    .dataframe tbody tr th:only-of-type {\n",
       "        vertical-align: middle;\n",
       "    }\n",
       "\n",
       "    .dataframe tbody tr th {\n",
       "        vertical-align: top;\n",
       "    }\n",
       "\n",
       "    .dataframe thead th {\n",
       "        text-align: right;\n",
       "    }\n",
       "</style>\n",
       "<table border=\"1\" class=\"dataframe\">\n",
       "  <thead>\n",
       "    <tr style=\"text-align: right;\">\n",
       "      <th></th>\n",
       "      <th>Чек</th>\n",
       "      <th>Статус</th>\n",
       "      <th>Заказы</th>\n",
       "      <th>Расстояние</th>\n",
       "    </tr>\n",
       "  </thead>\n",
       "  <tbody>\n",
       "    <tr>\n",
       "      <th>count</th>\n",
       "      <td>2956.000000</td>\n",
       "      <td>2956.000000</td>\n",
       "      <td>2956.000000</td>\n",
       "      <td>2956.000000</td>\n",
       "    </tr>\n",
       "    <tr>\n",
       "      <th>mean</th>\n",
       "      <td>377.531648</td>\n",
       "      <td>0.320365</td>\n",
       "      <td>7.662382</td>\n",
       "      <td>15.158322</td>\n",
       "    </tr>\n",
       "    <tr>\n",
       "      <th>std</th>\n",
       "      <td>695.546854</td>\n",
       "      <td>0.466696</td>\n",
       "      <td>20.246477</td>\n",
       "      <td>20.980580</td>\n",
       "    </tr>\n",
       "    <tr>\n",
       "      <th>min</th>\n",
       "      <td>0.200000</td>\n",
       "      <td>0.000000</td>\n",
       "      <td>1.000000</td>\n",
       "      <td>0.000000</td>\n",
       "    </tr>\n",
       "    <tr>\n",
       "      <th>25%</th>\n",
       "      <td>120.000000</td>\n",
       "      <td>0.000000</td>\n",
       "      <td>1.000000</td>\n",
       "      <td>9.000000</td>\n",
       "    </tr>\n",
       "    <tr>\n",
       "      <th>50%</th>\n",
       "      <td>207.046667</td>\n",
       "      <td>0.000000</td>\n",
       "      <td>2.000000</td>\n",
       "      <td>10.000000</td>\n",
       "    </tr>\n",
       "    <tr>\n",
       "      <th>75%</th>\n",
       "      <td>380.000000</td>\n",
       "      <td>1.000000</td>\n",
       "      <td>5.000000</td>\n",
       "      <td>11.000000</td>\n",
       "    </tr>\n",
       "    <tr>\n",
       "      <th>max</th>\n",
       "      <td>14450.000000</td>\n",
       "      <td>1.000000</td>\n",
       "      <td>324.000000</td>\n",
       "      <td>238.000000</td>\n",
       "    </tr>\n",
       "  </tbody>\n",
       "</table>\n",
       "</div>"
      ],
      "text/plain": [
       "                Чек       Статус       Заказы   Расстояние\n",
       "count   2956.000000  2956.000000  2956.000000  2956.000000\n",
       "mean     377.531648     0.320365     7.662382    15.158322\n",
       "std      695.546854     0.466696    20.246477    20.980580\n",
       "min        0.200000     0.000000     1.000000     0.000000\n",
       "25%      120.000000     0.000000     1.000000     9.000000\n",
       "50%      207.046667     0.000000     2.000000    10.000000\n",
       "75%      380.000000     1.000000     5.000000    11.000000\n",
       "max    14450.000000     1.000000   324.000000   238.000000"
      ]
     },
     "execution_count": 3,
     "metadata": {},
     "output_type": "execute_result"
    }
   ],
   "source": [
    "# посомтрим основные статистические параметры данных\n",
    "data.describe()"
   ]
  },
  {
   "cell_type": "code",
   "execution_count": 4,
   "metadata": {},
   "outputs": [
    {
     "data": {
      "image/png": "[encoded data removed]",
      "text/plain": [
       "<Figure size 720x720 with 16 Axes>"
      ]
     },
     "metadata": {
      "needs_background": "light"
     },
     "output_type": "display_data"
    }
   ],
   "source": [
    "# построим диаграммы рассеивания и гистограммы для столбцов\n",
    "from pandas.plotting import scatter_matrix\n",
    "scatter_matrix(data, alpha=0.05, figsize=(10, 10));"
   ]
  },
  {
   "cell_type": "code",
   "execution_count": 5,
   "metadata": {},
   "outputs": [
    {
     "data": {
      "text/html": [
       "<div>\n",
       "<style scoped>\n",
       "    .dataframe tbody tr th:only-of-type {\n",
       "        vertical-align: middle;\n",
       "    }\n",
       "\n",
       "    .dataframe tbody tr th {\n",
       "        vertical-align: top;\n",
       "    }\n",
       "\n",
       "    .dataframe thead th {\n",
       "        text-align: right;\n",
       "    }\n",
       "</style>\n",
       "<table border=\"1\" class=\"dataframe\">\n",
       "  <thead>\n",
       "    <tr style=\"text-align: right;\">\n",
       "      <th></th>\n",
       "      <th>Чек</th>\n",
       "      <th>Статус</th>\n",
       "      <th>Заказы</th>\n",
       "      <th>Расстояние</th>\n",
       "    </tr>\n",
       "  </thead>\n",
       "  <tbody>\n",
       "    <tr>\n",
       "      <th>Чек</th>\n",
       "      <td>1.000000</td>\n",
       "      <td>0.016888</td>\n",
       "      <td>0.014185</td>\n",
       "      <td>-0.002329</td>\n",
       "    </tr>\n",
       "    <tr>\n",
       "      <th>Статус</th>\n",
       "      <td>0.016888</td>\n",
       "      <td>1.000000</td>\n",
       "      <td>0.292487</td>\n",
       "      <td>0.365627</td>\n",
       "    </tr>\n",
       "    <tr>\n",
       "      <th>Заказы</th>\n",
       "      <td>0.014185</td>\n",
       "      <td>0.292487</td>\n",
       "      <td>1.000000</td>\n",
       "      <td>-0.116355</td>\n",
       "    </tr>\n",
       "    <tr>\n",
       "      <th>Расстояние</th>\n",
       "      <td>-0.002329</td>\n",
       "      <td>0.365627</td>\n",
       "      <td>-0.116355</td>\n",
       "      <td>1.000000</td>\n",
       "    </tr>\n",
       "  </tbody>\n",
       "</table>\n",
       "</div>"
      ],
      "text/plain": [
       "                 Чек    Статус    Заказы  Расстояние\n",
       "Чек         1.000000  0.016888  0.014185   -0.002329\n",
       "Статус      0.016888  1.000000  0.292487    0.365627\n",
       "Заказы      0.014185  0.292487  1.000000   -0.116355\n",
       "Расстояние -0.002329  0.365627 -0.116355    1.000000"
      ]
     },
     "execution_count": 5,
     "metadata": {},
     "output_type": "execute_result"
    }
   ],
   "source": [
    "# посмотрим наличие корреляций между значениями\n",
    "data.corr()"
   ]
  },
  {
   "cell_type": "code",
   "execution_count": 6,
   "metadata": {},
   "outputs": [
    {
     "data": {
      "text/plain": [
       "Text(0, 0.5, 'Заказы')"
      ]
     },
     "execution_count": 6,
     "metadata": {},
     "output_type": "execute_result"
    },
    {
     "data": {
      "image/png": "[encoded data removed]",
      "text/plain": [
       "<Figure size 720x432 with 1 Axes>"
      ]
     },
     "metadata": {
      "needs_background": "light"
     },
     "output_type": "display_data"
    }
   ],
   "source": [
    "# Изменяя названия столбцов можно построить диаграммы рассеиванию двух параметров\n",
    "# Замените названия стобцов col1 и col2\n",
    "col1 = 'Чек'\n",
    "col2 = 'Заказы'\n",
    "\n",
    "plt.figure(figsize=(10, 6))\n",
    "\n",
    "plt.scatter(data[col1],\n",
    "            data[col2],\n",
    "            alpha=0.75,\n",
    "            color='red')\n",
    "plt.xlabel(col1)\n",
    "plt.ylabel(col2)"
   ]
  },
  {
   "cell_type": "markdown",
   "metadata": {},
   "source": [
    "# Готовим данные к кластеризации\n",
    "Следующие операции необходимы для подготовки данных"
   ]
  },
  {
   "cell_type": "code",
   "execution_count": 7,
   "metadata": {},
   "outputs": [
    {
     "data": {
      "text/plain": [
       "array([128.,   0.,   1.,  10.])"
      ]
     },
     "execution_count": 7,
     "metadata": {},
     "output_type": "execute_result"
    }
   ],
   "source": [
    "# Выделим данные, начиная с первой колонки\n",
    "# Это то, что подлежит анализу\n",
    "# данную операцию надо проделывать на рядах с названием строк\n",
    "# следующая команда удаляет столбец client, он не содержаит данных ядл кластеризации\n",
    "data_for_clust=data.drop(data.columns[0], axis=1).values\n",
    "#проверим результат, выведем первую строку\n",
    "data_for_clust[0]"
   ]
  },
  {
   "cell_type": "code",
   "execution_count": 8,
   "metadata": {},
   "outputs": [],
   "source": [
    "# загружаем библиотеку препроцесинга данных\n",
    "# эта библиотека автоматически приведен данные к нормальным значениям\n",
    "from sklearn import preprocessing\n",
    "dataNorm = preprocessing.normalize(data_for_clust)"
   ]
  },
  {
   "cell_type": "code",
   "execution_count": 9,
   "metadata": {},
   "outputs": [],
   "source": [
    "# Вычислим расстояния между каждым набором данных,\n",
    "# т.е. строками массива data_for_clust\n",
    "# Вычисляется евклидово расстояние (по умолчанию)\n",
    "data_dist = pdist(dataNorm, 'euclidean')\n",
    "# Главная функция иерархической кластеризии\n",
    "# Объедение элементов в кластера и сохранение в \n",
    "# специальной переменной (используется ниже для визуализации \n",
    "# и выделения количества кластеров\n",
    "data_linkage = linkage(data_dist, method='average')"
   ]
  },
  {
   "cell_type": "code",
   "execution_count": 10,
   "metadata": {},
   "outputs": [
    {
     "data": {
      "image/png": "[encoded data removed]",
      "text/plain": [
       "<Figure size 432x288 with 1 Axes>"
      ]
     },
     "metadata": {
      "needs_background": "light"
     },
     "output_type": "display_data"
    },
    {
     "name": "stdout",
     "output_type": "stream",
     "text": [
      "clusters: 2\n"
     ]
    }
   ],
   "source": [
    "# Метод локтя. Позволячет оценить оптимальное количество сегментов.\n",
    "# Показывает сумму внутри групповых вариаций\n",
    "last = data_linkage[-10:, 2]\n",
    "last_rev = last[::-1]\n",
    "idxs = np.arange(1, len(last) + 1)\n",
    "plt.plot(idxs, last_rev)\n",
    "\n",
    "acceleration = np.diff(last, 2)  \n",
    "acceleration_rev = acceleration[::-1]\n",
    "plt.plot(idxs[:-2] + 1, acceleration_rev)\n",
    "plt.show()\n",
    "k = acceleration_rev.argmax() + 2 \n",
    "print(\"clusters:\", k)"
   ]
  },
  {
   "cell_type": "code",
   "execution_count": 11,
   "metadata": {},
   "outputs": [],
   "source": [
    "#функция построения дендрограмм\n",
    "def fancy_dendrogram(*args, **kwargs):\n",
    "    max_d = kwargs.pop('max_d', None)\n",
    "    if max_d and 'color_threshold' not in kwargs:\n",
    "        kwargs['color_threshold'] = max_d\n",
    "    annotate_above = kwargs.pop('annotate_above', 0)\n",
    "\n",
    "    ddata = dendrogram(*args, **kwargs)\n",
    "\n",
    "    if not kwargs.get('no_plot', False):\n",
    "        plt.title('Hierarchical Clustering Dendrogram (truncated)')\n",
    "        plt.xlabel('sample index or (cluster size)')\n",
    "        plt.ylabel('distance')\n",
    "        for i, d, c in zip(ddata['icoord'], ddata['dcoord'], ddata['color_list']):\n",
    "            x = 0.5 * sum(i[1:3])\n",
    "            y = d[1]\n",
    "            if y > annotate_above:\n",
    "                plt.plot(x, y, 'o', c=c)\n",
    "                plt.annotate(\"%.3g\" % y, (x, y), xytext=(0, -5),\n",
    "                             textcoords='offset points',\n",
    "                             va='top', ha='center')\n",
    "        if max_d:\n",
    "            plt.axhline(y=max_d, c='k')\n",
    "    return ddata"
   ]
  },
  {
   "cell_type": "markdown",
   "metadata": {},
   "source": [
    "Обязательно ниже надо изменить число кластеров. Пробуйте несколько вариантов."
   ]
  },
  {
   "cell_type": "code",
   "execution_count": 12,
   "metadata": {},
   "outputs": [
    {
     "data": {
      "image/png": "[encoded data removed]",
      "text/plain": [
       "<Figure size 432x288 with 1 Axes>"
      ]
     },
     "metadata": {
      "needs_background": "light"
     },
     "output_type": "display_data"
    }
   ],
   "source": [
    "#\n",
    "# указываем количество кластеров!\n",
    "#\n",
    "nCluster=6\n",
    "\n",
    "#строим дендрограмму \n",
    "fancy_dendrogram(\n",
    "    data_linkage,\n",
    "    truncate_mode='lastp',\n",
    "    p=nCluster, \n",
    "    leaf_rotation=90.,\n",
    "    leaf_font_size=12.,\n",
    "    show_contracted=True,\n",
    "    annotate_above=10,\n",
    ")\n",
    "plt.show()"
   ]
  },
  {
   "cell_type": "markdown",
   "metadata": {},
   "source": [
    "Фактически, мы сейчас выполнили иерархическую кластеризацию для построения дендограмы"
   ]
  },
  {
   "cell_type": "markdown",
   "metadata": {},
   "source": [
    "# Метод иерархической кластеризации\n",
    "Ее можно выполнять указывая или максимальное расстояние между класстерами (ячейка ниже) или указывая количество кластеров (через одну)"
   ]
  },
  {
   "cell_type": "code",
   "execution_count": 13,
   "metadata": {},
   "outputs": [
    {
     "name": "stdout",
     "output_type": "stream",
     "text": [
      "[6 6 6 ... 6 6 4]\n",
      "Количество кластеров:  9\n"
     ]
    }
   ],
   "source": [
    "#импортируем дополнительную библиотеку \n",
    "from scipy.cluster.hierarchy import fcluster\n",
    "max_d = 0.2 #максимальное расстояние, можно изменять\n",
    "# находим количество кластеров, между которыми растояние более max_d\n",
    "clusters = fcluster(data_linkage, max_d, criterion='distance')\n",
    "print(clusters)\n",
    "print('Количество кластеров: ', clusters.max())"
   ]
  },
  {
   "cell_type": "code",
   "execution_count": 14,
   "metadata": {},
   "outputs": [
    {
     "data": {
      "text/plain": [
       "array([5, 5, 5, ..., 5, 5, 4], dtype=int32)"
      ]
     },
     "execution_count": 14,
     "metadata": {},
     "output_type": "execute_result"
    }
   ],
   "source": [
    "k=6 #заданное количество кластеров. Можно менять\n",
    "clusters=fcluster(data_linkage, k, criterion='maxclust')\n",
    "clusters"
   ]
  },
  {
   "cell_type": "code",
   "execution_count": 15,
   "metadata": {},
   "outputs": [
    {
     "data": {
      "image/png": "[encoded data removed]",
      "text/plain": [
       "<Figure size 720x576 with 1 Axes>"
      ]
     },
     "metadata": {
      "needs_background": "light"
     },
     "output_type": "display_data"
    }
   ],
   "source": [
    "# рисуем график. Выбираем лучшее с точки зрения разбиения.\n",
    "plt.figure(figsize=(10, 8))\n",
    "# изменяя номеря сечений, можем выводить распределения в любых осях\n",
    "plt.scatter(data_for_clust[:,1], data_for_clust[:,2], c=clusters, cmap='flag') \n",
    "plt.show()"
   ]
  },
  {
   "cell_type": "markdown",
   "metadata": {},
   "source": [
    "Результат кластеризации - это одномерный массив с номер класстера к которому относится строка оригинальных данных. \n",
    "для удобства обработки мы совместим оригинальные данные и номера кластеров."
   ]
  },
  {
   "cell_type": "code",
   "execution_count": 16,
   "metadata": {},
   "outputs": [],
   "source": [
    "# к оригинальным данным добавляем \n",
    "dataI=data\n",
    "dataI['cluster_no']=clusters\n",
    "# Имя и название файла ниже можно изменять. Если файл не существует, то будем создан\n",
    "# sheet_name - имя листа на который будет записан результат\n",
    "writer = pd.ExcelWriter('result003.xlsx')\n",
    "dataI.to_excel(writer,'IER')\n",
    "writer.save()"
   ]
  },
  {
   "cell_type": "markdown",
   "metadata": {},
   "source": [
    "Посмотрим на характеристики кластеров. Ниже выведено количество элемнетов в кластере и средние значения столбцов."
   ]
  },
  {
   "cell_type": "code",
   "execution_count": 17,
   "metadata": {},
   "outputs": [
    {
     "data": {
      "text/html": [
       "<div>\n",
       "<style scoped>\n",
       "    .dataframe tbody tr th:only-of-type {\n",
       "        vertical-align: middle;\n",
       "    }\n",
       "\n",
       "    .dataframe tbody tr th {\n",
       "        vertical-align: top;\n",
       "    }\n",
       "\n",
       "    .dataframe thead th {\n",
       "        text-align: right;\n",
       "    }\n",
       "</style>\n",
       "<table border=\"1\" class=\"dataframe\">\n",
       "  <thead>\n",
       "    <tr style=\"text-align: right;\">\n",
       "      <th></th>\n",
       "      <th>Чек</th>\n",
       "      <th>Статус</th>\n",
       "      <th>Заказы</th>\n",
       "      <th>Расстояние</th>\n",
       "      <th>Количество</th>\n",
       "    </tr>\n",
       "    <tr>\n",
       "      <th>cluster_no</th>\n",
       "      <th></th>\n",
       "      <th></th>\n",
       "      <th></th>\n",
       "      <th></th>\n",
       "      <th></th>\n",
       "    </tr>\n",
       "  </thead>\n",
       "  <tbody>\n",
       "    <tr>\n",
       "      <th>1</th>\n",
       "      <td>94.665627</td>\n",
       "      <td>0.960000</td>\n",
       "      <td>2.120000</td>\n",
       "      <td>136.520000</td>\n",
       "      <td>25</td>\n",
       "    </tr>\n",
       "    <tr>\n",
       "      <th>2</th>\n",
       "      <td>54.000000</td>\n",
       "      <td>1.000000</td>\n",
       "      <td>2.000000</td>\n",
       "      <td>215.000000</td>\n",
       "      <td>1</td>\n",
       "    </tr>\n",
       "    <tr>\n",
       "      <th>3</th>\n",
       "      <td>221.205656</td>\n",
       "      <td>0.800000</td>\n",
       "      <td>179.800000</td>\n",
       "      <td>1.600000</td>\n",
       "      <td>5</td>\n",
       "    </tr>\n",
       "    <tr>\n",
       "      <th>4</th>\n",
       "      <td>110.713850</td>\n",
       "      <td>0.745455</td>\n",
       "      <td>2.981818</td>\n",
       "      <td>55.915152</td>\n",
       "      <td>165</td>\n",
       "    </tr>\n",
       "    <tr>\n",
       "      <th>5</th>\n",
       "      <td>396.588944</td>\n",
       "      <td>0.288148</td>\n",
       "      <td>7.684306</td>\n",
       "      <td>11.578470</td>\n",
       "      <td>2759</td>\n",
       "    </tr>\n",
       "    <tr>\n",
       "      <th>6</th>\n",
       "      <td>0.200000</td>\n",
       "      <td>0.000000</td>\n",
       "      <td>3.000000</td>\n",
       "      <td>1.000000</td>\n",
       "      <td>1</td>\n",
       "    </tr>\n",
       "  </tbody>\n",
       "</table>\n",
       "</div>"
      ],
      "text/plain": [
       "                   Чек    Статус      Заказы  Расстояние  Количество\n",
       "cluster_no                                                          \n",
       "1            94.665627  0.960000    2.120000  136.520000          25\n",
       "2            54.000000  1.000000    2.000000  215.000000           1\n",
       "3           221.205656  0.800000  179.800000    1.600000           5\n",
       "4           110.713850  0.745455    2.981818   55.915152         165\n",
       "5           396.588944  0.288148    7.684306   11.578470        2759\n",
       "6             0.200000  0.000000    3.000000    1.000000           1"
      ]
     },
     "execution_count": 17,
     "metadata": {},
     "output_type": "execute_result"
    }
   ],
   "source": [
    "res=dataI.groupby('cluster_no').mean()\n",
    "res['Количество']=dataI.groupby('cluster_no').size().values\n",
    "res"
   ]
  },
  {
   "cell_type": "markdown",
   "metadata": {},
   "source": [
    "# Кластеризация методом k-means\n",
    "\n",
    "Ниже необходимо изменить количество кластеров."
   ]
  },
  {
   "cell_type": "code",
   "execution_count": 18,
   "metadata": {},
   "outputs": [],
   "source": [
    "# строим кластеризаци методом KMeans\n",
    "#\n",
    "# n_clusters - укажите количество кластеров, которые вам необходимы\n",
    "#\n",
    "km = KMeans(n_clusters=6).fit(dataNorm)"
   ]
  },
  {
   "cell_type": "code",
   "execution_count": 19,
   "metadata": {},
   "outputs": [
    {
     "data": {
      "text/plain": [
       "array([2, 2, 2, ..., 2, 2, 3], dtype=int32)"
      ]
     },
     "execution_count": 19,
     "metadata": {},
     "output_type": "execute_result"
    }
   ],
   "source": [
    "# выведем полученное распределение по кластерам\n",
    "# так же номер кластера, к котрому относится строка, так как нумерация начинается с нуля, выводим добавляя 1\n",
    "km.labels_ +1"
   ]
  },
  {
   "cell_type": "code",
   "execution_count": 20,
   "metadata": {},
   "outputs": [
    {
     "data": {
      "image/png": "[encoded data removed]",
      "text/plain": [
       "<Figure size 720x576 with 1 Axes>"
      ]
     },
     "metadata": {
      "needs_background": "light"
     },
     "output_type": "display_data"
    }
   ],
   "source": [
    "plt.figure(figsize=(10, 8))\n",
    "plt.scatter(data_for_clust[:,0], data_for_clust[:,2], c=km.labels_, cmap='flag')\n",
    "plt.show()"
   ]
  },
  {
   "cell_type": "code",
   "execution_count": 21,
   "metadata": {},
   "outputs": [],
   "source": [
    "# к оригинальным данным добавляем номера кластеров\n",
    "dataK=data\n",
    "dataK['group_no']=km.labels_\n",
    "# Имя и название файла ниже можно изменять. Если файл не существует, то будем создан\n",
    "writer = pd.ExcelWriter('result004.xlsx')\n",
    "dataK.to_excel(writer,'KMeans')\n",
    "writer.save()"
   ]
  },
  {
   "cell_type": "code",
   "execution_count": 22,
   "metadata": {},
   "outputs": [
    {
     "data": {
      "text/html": [
       "<div>\n",
       "<style scoped>\n",
       "    .dataframe tbody tr th:only-of-type {\n",
       "        vertical-align: middle;\n",
       "    }\n",
       "\n",
       "    .dataframe tbody tr th {\n",
       "        vertical-align: top;\n",
       "    }\n",
       "\n",
       "    .dataframe thead th {\n",
       "        text-align: right;\n",
       "    }\n",
       "</style>\n",
       "<table border=\"1\" class=\"dataframe\">\n",
       "  <thead>\n",
       "    <tr style=\"text-align: right;\">\n",
       "      <th></th>\n",
       "      <th>Чек</th>\n",
       "      <th>Статус</th>\n",
       "      <th>Заказы</th>\n",
       "      <th>Расстояние</th>\n",
       "      <th>cluster_no</th>\n",
       "      <th>Количество</th>\n",
       "    </tr>\n",
       "    <tr>\n",
       "      <th>group_no</th>\n",
       "      <th></th>\n",
       "      <th></th>\n",
       "      <th></th>\n",
       "      <th></th>\n",
       "      <th></th>\n",
       "      <th></th>\n",
       "    </tr>\n",
       "  </thead>\n",
       "  <tbody>\n",
       "    <tr>\n",
       "      <th>0</th>\n",
       "      <td>100.059448</td>\n",
       "      <td>0.901639</td>\n",
       "      <td>2.491803</td>\n",
       "      <td>107.934426</td>\n",
       "      <td>2.737705</td>\n",
       "      <td>61</td>\n",
       "    </tr>\n",
       "    <tr>\n",
       "      <th>1</th>\n",
       "      <td>509.745259</td>\n",
       "      <td>0.221691</td>\n",
       "      <td>4.020202</td>\n",
       "      <td>10.056885</td>\n",
       "      <td>5.000000</td>\n",
       "      <td>1881</td>\n",
       "    </tr>\n",
       "    <tr>\n",
       "      <th>2</th>\n",
       "      <td>115.297988</td>\n",
       "      <td>0.698630</td>\n",
       "      <td>2.958904</td>\n",
       "      <td>47.383562</td>\n",
       "      <td>4.116438</td>\n",
       "      <td>146</td>\n",
       "    </tr>\n",
       "    <tr>\n",
       "      <th>3</th>\n",
       "      <td>253.530140</td>\n",
       "      <td>0.851064</td>\n",
       "      <td>116.297872</td>\n",
       "      <td>2.489362</td>\n",
       "      <td>4.808511</td>\n",
       "      <td>47</td>\n",
       "    </tr>\n",
       "    <tr>\n",
       "      <th>4</th>\n",
       "      <td>118.162901</td>\n",
       "      <td>0.318323</td>\n",
       "      <td>2.588509</td>\n",
       "      <td>17.184783</td>\n",
       "      <td>4.998447</td>\n",
       "      <td>644</td>\n",
       "    </tr>\n",
       "    <tr>\n",
       "      <th>5</th>\n",
       "      <td>261.032548</td>\n",
       "      <td>0.723164</td>\n",
       "      <td>41.644068</td>\n",
       "      <td>6.807910</td>\n",
       "      <td>5.000000</td>\n",
       "      <td>177</td>\n",
       "    </tr>\n",
       "  </tbody>\n",
       "</table>\n",
       "</div>"
      ],
      "text/plain": [
       "                 Чек    Статус      Заказы  Расстояние  cluster_no  Количество\n",
       "group_no                                                                      \n",
       "0         100.059448  0.901639    2.491803  107.934426    2.737705          61\n",
       "1         509.745259  0.221691    4.020202   10.056885    5.000000        1881\n",
       "2         115.297988  0.698630    2.958904   47.383562    4.116438         146\n",
       "3         253.530140  0.851064  116.297872    2.489362    4.808511          47\n",
       "4         118.162901  0.318323    2.588509   17.184783    4.998447         644\n",
       "5         261.032548  0.723164   41.644068    6.807910    5.000000         177"
      ]
     },
     "execution_count": 22,
     "metadata": {},
     "output_type": "execute_result"
    }
   ],
   "source": [
    "res=dataK.groupby('group_no').mean()\n",
    "res['Количество']=dataK.groupby('group_no').size().values\n",
    "res"
   ]
  },
  {
   "cell_type": "code",
   "execution_count": null,
   "metadata": {},
   "outputs": [],
   "source": []
  }
 ],
 "metadata": {
  "kernelspec": {
   "display_name": "py3.7",
   "language": "python",
   "name": "py3.7"
  },
  "language_info": {
   "codemirror_mode": {
    "name": "ipython",
    "version": 3
   },
   "file_extension": ".py",
   "mimetype": "text/x-python",
   "name": "python",
   "nbconvert_exporter": "python",
   "pygments_lexer": "ipython3",
   "version": "3.7.5"
  }
 },
 "nbformat": 4,
 "nbformat_minor": 2
}
