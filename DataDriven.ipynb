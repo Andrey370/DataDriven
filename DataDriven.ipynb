{
 "cells": [
  {
   "cell_type": "markdown",
   "metadata": {},
   "source": [
    "*(С) Андрей Кулинич, 2019 год*\n",
    "\n",
    "Данный пример демонстрирует базовые техники анализа и исследований для подготовки принятия управленческих решений. Ниже предложенна стройная и логичная схема анализа, которая будет одинаково хорошо работать в разных ситуациях. Фактически, заменив пример своими данными, вы можете выполнить аналогичный анализ. \n",
    "\n",
    "# Введение\n",
    "\n",
    "Данный кейс рассматривает актуальную проблему оценки эффективности инвестиций в продвижение. А именно, влияние инвестиций в продвижения на продажи. \n",
    "\n",
    "Цели анализа сводились к трем пунктам:\n",
    "1. Понять, стоит ли продолжать инвестировать в известность/доказать эффективность инвестиций в рост известности компании.\n",
    "2. Понять в целом, как инвестиции в отдельные каналы влияют на результаты продаж.\n",
    "3. Выделить ключевые метрики, которые являются наиболее значимыми с точки зрения влияния на продажи. \n",
    "\n",
    "Была выполненная непростая работа: из разных источников был собран датасет, который представлен вашему вниманию. Чаще всего, это и есть самый сложный этап. Данные были серьезным образом модифицированы, но сохранены наиболее важные закономерности. Также не будет раскрыта отрасль, к котрой относится данный пример. Это безусловно затрудняет трактовку результатов. С другой стороны, наглядно показывает, что в рамках даже глубокого статистического анализа важен специалист, который понимает истинный смысл процессов и выявленных закономерностей.  \n",
    "\n",
    "В рамках кейса показаны техники, комментарии о результатах анализа озвучиваются в лекции, но не приведодятся в блокноте. Энтузиасты могут провести более глубокий и детальный анализ.\n",
    "\n",
    "# Анализ: подготовка\n",
    "Ниже загружаем часть необходимых библиотек."
   ]
  },
  {
   "cell_type": "code",
   "execution_count": 2,
   "metadata": {},
   "outputs": [],
   "source": [
    "#загружаем библиотеки\n",
    "import pandas as pd\n",
    "import numpy as np\n",
    "from scipy.stats import variation\n",
    "import matplotlib.pyplot as plt\n",
    "from pandas.plotting import scatter_matrix\n",
    "import seaborn as sns\n",
    "\n",
    "#инструкция для matplotlib выводить графики как картинки\n",
    "%matplotlib inline"
   ]
  },
  {
   "cell_type": "markdown",
   "metadata": {},
   "source": [
    "Читаем файл с датасетом."
   ]
  },
  {
   "cell_type": "code",
   "execution_count": 3,
   "metadata": {},
   "outputs": [],
   "source": [
    "df=pd.read_excel(\"UU_DataSet.xlsx\", sheet_name=\"Marketing\")"
   ]
  },
  {
   "cell_type": "markdown",
   "metadata": {},
   "source": [
    "Выведем список колонок датасета и приведем ниже их описание."
   ]
  },
  {
   "cell_type": "code",
   "execution_count": 4,
   "metadata": {},
   "outputs": [
    {
     "data": {
      "text/plain": [
       "Index(['Дата', 'Продажи', 'Сезонность', 'Средняя цена', 'Акции', 'Наружка',\n",
       "       'Промо', 'Интернет', 'PR', 'Публикации', 'Известность',\n",
       "       'Рекламные контакты', 'Лояльность', 'Поиск', 'Конкурент 1',\n",
       "       'Конкурент 2', 'Конкурент 3'],\n",
       "      dtype='object')"
      ]
     },
     "execution_count": 4,
     "metadata": {},
     "output_type": "execute_result"
    }
   ],
   "source": [
    "df.columns"
   ]
  },
  {
   "cell_type": "markdown",
   "metadata": {},
   "source": [
    "Датасет представляет собой результаты деятельности компании за один год. Безусловно, хотелось бы иметь более значительный по объему датасет, но это не всегда возможно на практике. \n",
    "\n",
    "Ниже описание столбоцов датасета:\n",
    "- 'Дата' - указывает на месяц/год к которому относятся данные\n",
    "- 'Продажи' - результаты продаж в натуральных единицах\n",
    "- 'Сезонность' - из исторических данных, насколько продажи в соответсвующем месяце превышают средние\n",
    "- 'Средняя цена' - средняя цена в текущем месяце за единицу продукта компании\n",
    "- 'Акции' - бинарное поле, показывает наличие (1) или отсутствие (0) акций (продажа по сниженным ценам) \n",
    "- 'Наружка' - сумма инвестиций в наружную рекламу: чаще всего щиты и вывески (рубли)\n",
    "- 'Промо' - инвестиции в BTL, промо материалы (рубли)\n",
    "- 'Интернет' - инвестиции в продвижение в интернет (все виды) (рубли)\n",
    "- 'PR' - инвестиции в PR (рубли) \n",
    "- 'Публикации' - количество публикаций о компании и ее продуктах (интернет, пресса) в рамках PR активности \n",
    "- 'Известность' - результаты опросов об известности компании. Доля опрошенных, кто знает бренд компании (знание спонтанное и по подсказке)\n",
    "- 'Рекламные контакты' - количество контактов по рекламе\n",
    "- 'Лояльность' - процент повторных покупок\n",
    "- 'Поиск' - количество запросов о компании и продукте в поисковых системах\n",
    "- 'Конкурент 1', 'Конкурент 2', 'Конкурент 3' - количество запросов о компании о продуктах трех ближайших конкурентов.    \n",
    "\n",
    "Выведем пять первых строк таблицы с данными."
   ]
  },
  {
   "cell_type": "code",
   "execution_count": 6,
   "metadata": {},
   "outputs": [
    {
     "data": {
      "text/html": [
       "<div>\n",
       "<style scoped>\n",
       "    .dataframe tbody tr th:only-of-type {\n",
       "        vertical-align: middle;\n",
       "    }\n",
       "\n",
       "    .dataframe tbody tr th {\n",
       "        vertical-align: top;\n",
       "    }\n",
       "\n",
       "    .dataframe thead th {\n",
       "        text-align: right;\n",
       "    }\n",
       "</style>\n",
       "<table border=\"1\" class=\"dataframe\">\n",
       "  <thead>\n",
       "    <tr style=\"text-align: right;\">\n",
       "      <th></th>\n",
       "      <th>Дата</th>\n",
       "      <th>Продажи</th>\n",
       "      <th>Сезонность</th>\n",
       "      <th>Средняя цена</th>\n",
       "      <th>Акции</th>\n",
       "      <th>Наружка</th>\n",
       "      <th>Промо</th>\n",
       "      <th>Интернет</th>\n",
       "      <th>PR</th>\n",
       "      <th>Публикации</th>\n",
       "      <th>Известность</th>\n",
       "      <th>Рекламные контакты</th>\n",
       "      <th>Лояльность</th>\n",
       "      <th>Поиск</th>\n",
       "      <th>Конкурент 1</th>\n",
       "      <th>Конкурент 2</th>\n",
       "      <th>Конкурент 3</th>\n",
       "    </tr>\n",
       "  </thead>\n",
       "  <tbody>\n",
       "    <tr>\n",
       "      <th>0</th>\n",
       "      <td>2014-01-01</td>\n",
       "      <td>1536</td>\n",
       "      <td>1.127785</td>\n",
       "      <td>27</td>\n",
       "      <td>0</td>\n",
       "      <td>4703</td>\n",
       "      <td>0</td>\n",
       "      <td>1815</td>\n",
       "      <td>385</td>\n",
       "      <td>400</td>\n",
       "      <td>0.095</td>\n",
       "      <td>3994</td>\n",
       "      <td>0.612</td>\n",
       "      <td>22990</td>\n",
       "      <td>29189</td>\n",
       "      <td>37668</td>\n",
       "      <td>30553</td>\n",
       "    </tr>\n",
       "    <tr>\n",
       "      <th>1</th>\n",
       "      <td>2014-02-01</td>\n",
       "      <td>1512</td>\n",
       "      <td>1.146470</td>\n",
       "      <td>29</td>\n",
       "      <td>0</td>\n",
       "      <td>5791</td>\n",
       "      <td>0</td>\n",
       "      <td>1777</td>\n",
       "      <td>385</td>\n",
       "      <td>390</td>\n",
       "      <td>0.095</td>\n",
       "      <td>4549</td>\n",
       "      <td>0.618</td>\n",
       "      <td>23408</td>\n",
       "      <td>28187</td>\n",
       "      <td>38058</td>\n",
       "      <td>32758</td>\n",
       "    </tr>\n",
       "    <tr>\n",
       "      <th>2</th>\n",
       "      <td>2014-03-01</td>\n",
       "      <td>1329</td>\n",
       "      <td>1.015061</td>\n",
       "      <td>29</td>\n",
       "      <td>0</td>\n",
       "      <td>4861</td>\n",
       "      <td>0</td>\n",
       "      <td>1657</td>\n",
       "      <td>429</td>\n",
       "      <td>369</td>\n",
       "      <td>0.095</td>\n",
       "      <td>4362</td>\n",
       "      <td>0.579</td>\n",
       "      <td>22114</td>\n",
       "      <td>23901</td>\n",
       "      <td>35373</td>\n",
       "      <td>33611</td>\n",
       "    </tr>\n",
       "    <tr>\n",
       "      <th>3</th>\n",
       "      <td>2014-04-01</td>\n",
       "      <td>1086</td>\n",
       "      <td>0.879785</td>\n",
       "      <td>29</td>\n",
       "      <td>0</td>\n",
       "      <td>4375</td>\n",
       "      <td>0</td>\n",
       "      <td>3915</td>\n",
       "      <td>434</td>\n",
       "      <td>365</td>\n",
       "      <td>0.095</td>\n",
       "      <td>3884</td>\n",
       "      <td>0.597</td>\n",
       "      <td>19828</td>\n",
       "      <td>20162</td>\n",
       "      <td>32273</td>\n",
       "      <td>25431</td>\n",
       "    </tr>\n",
       "    <tr>\n",
       "      <th>4</th>\n",
       "      <td>2014-05-01</td>\n",
       "      <td>1036</td>\n",
       "      <td>0.760468</td>\n",
       "      <td>31</td>\n",
       "      <td>0</td>\n",
       "      <td>4229</td>\n",
       "      <td>0</td>\n",
       "      <td>3727</td>\n",
       "      <td>418</td>\n",
       "      <td>358</td>\n",
       "      <td>0.145</td>\n",
       "      <td>3680</td>\n",
       "      <td>0.547</td>\n",
       "      <td>18464</td>\n",
       "      <td>16600</td>\n",
       "      <td>31031</td>\n",
       "      <td>23200</td>\n",
       "    </tr>\n",
       "  </tbody>\n",
       "</table>\n",
       "</div>"
      ],
      "text/plain": [
       "        Дата  Продажи  Сезонность  Средняя цена  Акции  Наружка  Промо  \\\n",
       "0 2014-01-01     1536    1.127785            27      0     4703      0   \n",
       "1 2014-02-01     1512    1.146470            29      0     5791      0   \n",
       "2 2014-03-01     1329    1.015061            29      0     4861      0   \n",
       "3 2014-04-01     1086    0.879785            29      0     4375      0   \n",
       "4 2014-05-01     1036    0.760468            31      0     4229      0   \n",
       "\n",
       "   Интернет   PR  Публикации  Известность  Рекламные контакты  Лояльность  \\\n",
       "0      1815  385         400        0.095                3994       0.612   \n",
       "1      1777  385         390        0.095                4549       0.618   \n",
       "2      1657  429         369        0.095                4362       0.579   \n",
       "3      3915  434         365        0.095                3884       0.597   \n",
       "4      3727  418         358        0.145                3680       0.547   \n",
       "\n",
       "   Поиск  Конкурент 1  Конкурент 2  Конкурент 3  \n",
       "0  22990        29189        37668        30553  \n",
       "1  23408        28187        38058        32758  \n",
       "2  22114        23901        35373        33611  \n",
       "3  19828        20162        32273        25431  \n",
       "4  18464        16600        31031        23200  "
      ]
     },
     "execution_count": 6,
     "metadata": {},
     "output_type": "execute_result"
    }
   ],
   "source": [
    "df.head()"
   ]
  },
  {
   "cell_type": "markdown",
   "metadata": {},
   "source": [
    "Выведем последние пять строк таблицы с данными."
   ]
  },
  {
   "cell_type": "code",
   "execution_count": 7,
   "metadata": {},
   "outputs": [
    {
     "data": {
      "text/html": [
       "<div>\n",
       "<style scoped>\n",
       "    .dataframe tbody tr th:only-of-type {\n",
       "        vertical-align: middle;\n",
       "    }\n",
       "\n",
       "    .dataframe tbody tr th {\n",
       "        vertical-align: top;\n",
       "    }\n",
       "\n",
       "    .dataframe thead th {\n",
       "        text-align: right;\n",
       "    }\n",
       "</style>\n",
       "<table border=\"1\" class=\"dataframe\">\n",
       "  <thead>\n",
       "    <tr style=\"text-align: right;\">\n",
       "      <th></th>\n",
       "      <th>Дата</th>\n",
       "      <th>Продажи</th>\n",
       "      <th>Сезонность</th>\n",
       "      <th>Средняя цена</th>\n",
       "      <th>Акции</th>\n",
       "      <th>Наружка</th>\n",
       "      <th>Промо</th>\n",
       "      <th>Интернет</th>\n",
       "      <th>PR</th>\n",
       "      <th>Публикации</th>\n",
       "      <th>Известность</th>\n",
       "      <th>Рекламные контакты</th>\n",
       "      <th>Лояльность</th>\n",
       "      <th>Поиск</th>\n",
       "      <th>Конкурент 1</th>\n",
       "      <th>Конкурент 2</th>\n",
       "      <th>Конкурент 3</th>\n",
       "    </tr>\n",
       "  </thead>\n",
       "  <tbody>\n",
       "    <tr>\n",
       "      <th>7</th>\n",
       "      <td>2014-08-01</td>\n",
       "      <td>1937</td>\n",
       "      <td>1.054167</td>\n",
       "      <td>27</td>\n",
       "      <td>1</td>\n",
       "      <td>4843</td>\n",
       "      <td>103</td>\n",
       "      <td>5727</td>\n",
       "      <td>423</td>\n",
       "      <td>543</td>\n",
       "      <td>0.1450</td>\n",
       "      <td>6575</td>\n",
       "      <td>0.724</td>\n",
       "      <td>30434</td>\n",
       "      <td>25313</td>\n",
       "      <td>38010</td>\n",
       "      <td>33639</td>\n",
       "    </tr>\n",
       "    <tr>\n",
       "      <th>8</th>\n",
       "      <td>2014-09-01</td>\n",
       "      <td>1408</td>\n",
       "      <td>1.130470</td>\n",
       "      <td>29</td>\n",
       "      <td>0</td>\n",
       "      <td>3792</td>\n",
       "      <td>103</td>\n",
       "      <td>3849</td>\n",
       "      <td>423</td>\n",
       "      <td>474</td>\n",
       "      <td>0.1525</td>\n",
       "      <td>5863</td>\n",
       "      <td>0.545</td>\n",
       "      <td>30216</td>\n",
       "      <td>25744</td>\n",
       "      <td>38923</td>\n",
       "      <td>36255</td>\n",
       "    </tr>\n",
       "    <tr>\n",
       "      <th>9</th>\n",
       "      <td>2014-10-01</td>\n",
       "      <td>1112</td>\n",
       "      <td>1.153449</td>\n",
       "      <td>31</td>\n",
       "      <td>0</td>\n",
       "      <td>3368</td>\n",
       "      <td>56</td>\n",
       "      <td>4956</td>\n",
       "      <td>423</td>\n",
       "      <td>459</td>\n",
       "      <td>0.1525</td>\n",
       "      <td>5557</td>\n",
       "      <td>0.509</td>\n",
       "      <td>30688</td>\n",
       "      <td>29703</td>\n",
       "      <td>38503</td>\n",
       "      <td>37540</td>\n",
       "    </tr>\n",
       "    <tr>\n",
       "      <th>10</th>\n",
       "      <td>2014-11-01</td>\n",
       "      <td>1081</td>\n",
       "      <td>1.037076</td>\n",
       "      <td>30</td>\n",
       "      <td>0</td>\n",
       "      <td>3126</td>\n",
       "      <td>57</td>\n",
       "      <td>3631</td>\n",
       "      <td>423</td>\n",
       "      <td>508</td>\n",
       "      <td>0.1525</td>\n",
       "      <td>5066</td>\n",
       "      <td>0.667</td>\n",
       "      <td>27270</td>\n",
       "      <td>25371</td>\n",
       "      <td>34813</td>\n",
       "      <td>37511</td>\n",
       "    </tr>\n",
       "    <tr>\n",
       "      <th>11</th>\n",
       "      <td>2014-12-01</td>\n",
       "      <td>987</td>\n",
       "      <td>0.952227</td>\n",
       "      <td>32</td>\n",
       "      <td>0</td>\n",
       "      <td>3136</td>\n",
       "      <td>103</td>\n",
       "      <td>4813</td>\n",
       "      <td>423</td>\n",
       "      <td>559</td>\n",
       "      <td>0.1525</td>\n",
       "      <td>4625</td>\n",
       "      <td>0.655</td>\n",
       "      <td>23580</td>\n",
       "      <td>21714</td>\n",
       "      <td>32717</td>\n",
       "      <td>31438</td>\n",
       "    </tr>\n",
       "  </tbody>\n",
       "</table>\n",
       "</div>"
      ],
      "text/plain": [
       "         Дата  Продажи  Сезонность  Средняя цена  Акции  Наружка  Промо  \\\n",
       "7  2014-08-01     1937    1.054167            27      1     4843    103   \n",
       "8  2014-09-01     1408    1.130470            29      0     3792    103   \n",
       "9  2014-10-01     1112    1.153449            31      0     3368     56   \n",
       "10 2014-11-01     1081    1.037076            30      0     3126     57   \n",
       "11 2014-12-01      987    0.952227            32      0     3136    103   \n",
       "\n",
       "    Интернет   PR  Публикации  Известность  Рекламные контакты  Лояльность  \\\n",
       "7       5727  423         543       0.1450                6575       0.724   \n",
       "8       3849  423         474       0.1525                5863       0.545   \n",
       "9       4956  423         459       0.1525                5557       0.509   \n",
       "10      3631  423         508       0.1525                5066       0.667   \n",
       "11      4813  423         559       0.1525                4625       0.655   \n",
       "\n",
       "    Поиск  Конкурент 1  Конкурент 2  Конкурент 3  \n",
       "7   30434        25313        38010        33639  \n",
       "8   30216        25744        38923        36255  \n",
       "9   30688        29703        38503        37540  \n",
       "10  27270        25371        34813        37511  \n",
       "11  23580        21714        32717        31438  "
      ]
     },
     "execution_count": 7,
     "metadata": {},
     "output_type": "execute_result"
    }
   ],
   "source": [
    "df.tail()"
   ]
  },
  {
   "cell_type": "markdown",
   "metadata": {},
   "source": [
    "Посмотрим на базовые статистики каждого из столбцов. Данные о максимумах и минимумах, стандартной ошибке и тд, можно  использовать для корректировки выбросов.\n",
    "\n",
    "Стоит обратить внимание на нормальность распределения данных, в частности, насколько среднее отличается от медианы. не является ли распределение смещенным. Это может влиять на результаты анализа и применения некотрых моделей. В отдельных случаях, рекомендуется привести распределение к нормальной форме. В данном примере, чтобы избежать усложнения, мы этого делать не будем."
   ]
  },
  {
   "cell_type": "code",
   "execution_count": 8,
   "metadata": {},
   "outputs": [
    {
     "data": {
      "text/html": [
       "<div>\n",
       "<style scoped>\n",
       "    .dataframe tbody tr th:only-of-type {\n",
       "        vertical-align: middle;\n",
       "    }\n",
       "\n",
       "    .dataframe tbody tr th {\n",
       "        vertical-align: top;\n",
       "    }\n",
       "\n",
       "    .dataframe thead th {\n",
       "        text-align: right;\n",
       "    }\n",
       "</style>\n",
       "<table border=\"1\" class=\"dataframe\">\n",
       "  <thead>\n",
       "    <tr style=\"text-align: right;\">\n",
       "      <th></th>\n",
       "      <th>Продажи</th>\n",
       "      <th>Сезонность</th>\n",
       "      <th>Средняя цена</th>\n",
       "      <th>Акции</th>\n",
       "      <th>Наружка</th>\n",
       "      <th>Промо</th>\n",
       "      <th>Интернет</th>\n",
       "      <th>PR</th>\n",
       "      <th>Публикации</th>\n",
       "      <th>Известность</th>\n",
       "      <th>Рекламные контакты</th>\n",
       "      <th>Лояльность</th>\n",
       "      <th>Поиск</th>\n",
       "      <th>Конкурент 1</th>\n",
       "      <th>Конкурент 2</th>\n",
       "      <th>Конкурент 3</th>\n",
       "    </tr>\n",
       "  </thead>\n",
       "  <tbody>\n",
       "    <tr>\n",
       "      <th>count</th>\n",
       "      <td>12.000000</td>\n",
       "      <td>12.000000</td>\n",
       "      <td>12.000000</td>\n",
       "      <td>12.000000</td>\n",
       "      <td>12.000000</td>\n",
       "      <td>12.000000</td>\n",
       "      <td>12.000000</td>\n",
       "      <td>12.000000</td>\n",
       "      <td>12.000000</td>\n",
       "      <td>12.000000</td>\n",
       "      <td>12.000000</td>\n",
       "      <td>12.000000</td>\n",
       "      <td>12.000000</td>\n",
       "      <td>12.000000</td>\n",
       "      <td>12.000000</td>\n",
       "      <td>12.00000</td>\n",
       "    </tr>\n",
       "    <tr>\n",
       "      <th>mean</th>\n",
       "      <td>1296.250000</td>\n",
       "      <td>1.000000</td>\n",
       "      <td>29.500000</td>\n",
       "      <td>0.083333</td>\n",
       "      <td>4228.166667</td>\n",
       "      <td>43.750000</td>\n",
       "      <td>3609.166667</td>\n",
       "      <td>381.250000</td>\n",
       "      <td>433.916667</td>\n",
       "      <td>0.130833</td>\n",
       "      <td>4731.833333</td>\n",
       "      <td>0.602333</td>\n",
       "      <td>24490.333333</td>\n",
       "      <td>24028.583333</td>\n",
       "      <td>35498.500000</td>\n",
       "      <td>31476.75000</td>\n",
       "    </tr>\n",
       "    <tr>\n",
       "      <th>std</th>\n",
       "      <td>284.642719</td>\n",
       "      <td>0.131429</td>\n",
       "      <td>1.566699</td>\n",
       "      <td>0.288675</td>\n",
       "      <td>850.642841</td>\n",
       "      <td>48.478908</td>\n",
       "      <td>1310.477140</td>\n",
       "      <td>113.937084</td>\n",
       "      <td>73.544616</td>\n",
       "      <td>0.026657</td>\n",
       "      <td>889.718325</td>\n",
       "      <td>0.066329</td>\n",
       "      <td>4177.246316</td>\n",
       "      <td>3985.299520</td>\n",
       "      <td>2712.903259</td>\n",
       "      <td>4680.74396</td>\n",
       "    </tr>\n",
       "    <tr>\n",
       "      <th>min</th>\n",
       "      <td>987.000000</td>\n",
       "      <td>0.760468</td>\n",
       "      <td>27.000000</td>\n",
       "      <td>0.000000</td>\n",
       "      <td>3126.000000</td>\n",
       "      <td>0.000000</td>\n",
       "      <td>1657.000000</td>\n",
       "      <td>24.000000</td>\n",
       "      <td>354.000000</td>\n",
       "      <td>0.095000</td>\n",
       "      <td>3680.000000</td>\n",
       "      <td>0.509000</td>\n",
       "      <td>18464.000000</td>\n",
       "      <td>16600.000000</td>\n",
       "      <td>31031.000000</td>\n",
       "      <td>23200.00000</td>\n",
       "    </tr>\n",
       "    <tr>\n",
       "      <th>25%</th>\n",
       "      <td>1079.250000</td>\n",
       "      <td>0.877887</td>\n",
       "      <td>29.000000</td>\n",
       "      <td>0.000000</td>\n",
       "      <td>3465.500000</td>\n",
       "      <td>0.000000</td>\n",
       "      <td>2846.250000</td>\n",
       "      <td>385.000000</td>\n",
       "      <td>368.000000</td>\n",
       "      <td>0.095000</td>\n",
       "      <td>3971.250000</td>\n",
       "      <td>0.546500</td>\n",
       "      <td>21989.000000</td>\n",
       "      <td>21414.750000</td>\n",
       "      <td>33325.250000</td>\n",
       "      <td>28453.75000</td>\n",
       "    </tr>\n",
       "    <tr>\n",
       "      <th>50%</th>\n",
       "      <td>1220.500000</td>\n",
       "      <td>1.026068</td>\n",
       "      <td>29.000000</td>\n",
       "      <td>0.000000</td>\n",
       "      <td>4302.000000</td>\n",
       "      <td>28.000000</td>\n",
       "      <td>3788.000000</td>\n",
       "      <td>423.000000</td>\n",
       "      <td>414.000000</td>\n",
       "      <td>0.145000</td>\n",
       "      <td>4587.000000</td>\n",
       "      <td>0.604500</td>\n",
       "      <td>23343.000000</td>\n",
       "      <td>24607.000000</td>\n",
       "      <td>35229.000000</td>\n",
       "      <td>32098.00000</td>\n",
       "    </tr>\n",
       "    <tr>\n",
       "      <th>75%</th>\n",
       "      <td>1470.750000</td>\n",
       "      <td>1.128456</td>\n",
       "      <td>31.000000</td>\n",
       "      <td>0.000000</td>\n",
       "      <td>4847.500000</td>\n",
       "      <td>103.000000</td>\n",
       "      <td>4393.000000</td>\n",
       "      <td>423.000000</td>\n",
       "      <td>482.500000</td>\n",
       "      <td>0.152500</td>\n",
       "      <td>5188.750000</td>\n",
       "      <td>0.656000</td>\n",
       "      <td>28006.500000</td>\n",
       "      <td>26354.750000</td>\n",
       "      <td>38022.000000</td>\n",
       "      <td>34293.00000</td>\n",
       "    </tr>\n",
       "    <tr>\n",
       "      <th>max</th>\n",
       "      <td>1937.000000</td>\n",
       "      <td>1.153449</td>\n",
       "      <td>32.000000</td>\n",
       "      <td>1.000000</td>\n",
       "      <td>5791.000000</td>\n",
       "      <td>103.000000</td>\n",
       "      <td>5727.000000</td>\n",
       "      <td>434.000000</td>\n",
       "      <td>559.000000</td>\n",
       "      <td>0.152500</td>\n",
       "      <td>6575.000000</td>\n",
       "      <td>0.724000</td>\n",
       "      <td>30688.000000</td>\n",
       "      <td>29703.000000</td>\n",
       "      <td>38923.000000</td>\n",
       "      <td>37540.00000</td>\n",
       "    </tr>\n",
       "  </tbody>\n",
       "</table>\n",
       "</div>"
      ],
      "text/plain": [
       "           Продажи  Сезонность  Средняя цена      Акции      Наружка  \\\n",
       "count    12.000000   12.000000     12.000000  12.000000    12.000000   \n",
       "mean   1296.250000    1.000000     29.500000   0.083333  4228.166667   \n",
       "std     284.642719    0.131429      1.566699   0.288675   850.642841   \n",
       "min     987.000000    0.760468     27.000000   0.000000  3126.000000   \n",
       "25%    1079.250000    0.877887     29.000000   0.000000  3465.500000   \n",
       "50%    1220.500000    1.026068     29.000000   0.000000  4302.000000   \n",
       "75%    1470.750000    1.128456     31.000000   0.000000  4847.500000   \n",
       "max    1937.000000    1.153449     32.000000   1.000000  5791.000000   \n",
       "\n",
       "            Промо     Интернет          PR  Публикации  Известность  \\\n",
       "count   12.000000    12.000000   12.000000   12.000000    12.000000   \n",
       "mean    43.750000  3609.166667  381.250000  433.916667     0.130833   \n",
       "std     48.478908  1310.477140  113.937084   73.544616     0.026657   \n",
       "min      0.000000  1657.000000   24.000000  354.000000     0.095000   \n",
       "25%      0.000000  2846.250000  385.000000  368.000000     0.095000   \n",
       "50%     28.000000  3788.000000  423.000000  414.000000     0.145000   \n",
       "75%    103.000000  4393.000000  423.000000  482.500000     0.152500   \n",
       "max    103.000000  5727.000000  434.000000  559.000000     0.152500   \n",
       "\n",
       "       Рекламные контакты  Лояльность         Поиск   Конкурент 1  \\\n",
       "count           12.000000   12.000000     12.000000     12.000000   \n",
       "mean          4731.833333    0.602333  24490.333333  24028.583333   \n",
       "std            889.718325    0.066329   4177.246316   3985.299520   \n",
       "min           3680.000000    0.509000  18464.000000  16600.000000   \n",
       "25%           3971.250000    0.546500  21989.000000  21414.750000   \n",
       "50%           4587.000000    0.604500  23343.000000  24607.000000   \n",
       "75%           5188.750000    0.656000  28006.500000  26354.750000   \n",
       "max           6575.000000    0.724000  30688.000000  29703.000000   \n",
       "\n",
       "        Конкурент 2  Конкурент 3  \n",
       "count     12.000000     12.00000  \n",
       "mean   35498.500000  31476.75000  \n",
       "std     2712.903259   4680.74396  \n",
       "min    31031.000000  23200.00000  \n",
       "25%    33325.250000  28453.75000  \n",
       "50%    35229.000000  32098.00000  \n",
       "75%    38022.000000  34293.00000  \n",
       "max    38923.000000  37540.00000  "
      ]
     },
     "execution_count": 8,
     "metadata": {},
     "output_type": "execute_result"
    }
   ],
   "source": [
    "df.describe()"
   ]
  },
  {
   "cell_type": "markdown",
   "metadata": {},
   "source": [
    "В даншем датасете нет пропусков (пустых ячеек), но на всякий случай, заменим потенциально имеющиеся пустые ячейки нулями. Это позволит минимизировать ошибки при анализе ваших собственных данных. "
   ]
  },
  {
   "cell_type": "code",
   "execution_count": 9,
   "metadata": {},
   "outputs": [],
   "source": [
    "df.fillna(0, inplace=True)"
   ]
  },
  {
   "cell_type": "markdown",
   "metadata": {},
   "source": [
    "Построим гистограмму. Гистограмма быстро увидеть наличие выбросов и тип распределения данных. \n",
    "- df['Продажи'] - изменяя можно строить распределение для любого столбца.\n",
    "- bins=5 - изменяя число, вы будете изменять число карманов гистограммы."
   ]
  },
  {
   "cell_type": "code",
   "execution_count": 10,
   "metadata": {},
   "outputs": [
    {
     "data": {
      "text/plain": [
       "<matplotlib.axes._subplots.AxesSubplot at 0x24581501a90>"
      ]
     },
     "execution_count": 10,
     "metadata": {},
     "output_type": "execute_result"
    },
    {
     "data": {
      "image/png": "[encoded data removed]",
      "text/plain": [
       "<Figure size 720x360 with 1 Axes>"
      ]
     },
     "metadata": {
      "needs_background": "light"
     },
     "output_type": "display_data"
    }
   ],
   "source": [
    "plt.figure(figsize=(10,5))\n",
    "sns.distplot(df['Продажи'], color='g', hist_kws={'alpha':0.4}, bins=5)"
   ]
  },
  {
   "cell_type": "markdown",
   "metadata": {},
   "source": [
    "Построим график продаж по месяцам."
   ]
  },
  {
   "cell_type": "code",
   "execution_count": 11,
   "metadata": {},
   "outputs": [
    {
     "data": {
      "text/plain": [
       "<matplotlib.axes._subplots.AxesSubplot at 0x245835d3f98>"
      ]
     },
     "execution_count": 11,
     "metadata": {},
     "output_type": "execute_result"
    },
    {
     "data": {
      "image/png": "[encoded data removed]",
      "text/plain": [
       "<Figure size 1296x216 with 1 Axes>"
      ]
     },
     "metadata": {
      "needs_background": "light"
     },
     "output_type": "display_data"
    }
   ],
   "source": [
    "df[['Продажи']].plot(figsize=(18,3))"
   ]
  },
  {
   "cell_type": "markdown",
   "metadata": {},
   "source": [
    "Посмотрим, как изменялась средняя стоимость по месяцам."
   ]
  },
  {
   "cell_type": "code",
   "execution_count": 12,
   "metadata": {},
   "outputs": [
    {
     "data": {
      "text/plain": [
       "<matplotlib.axes._subplots.AxesSubplot at 0x2458378bd30>"
      ]
     },
     "execution_count": 12,
     "metadata": {},
     "output_type": "execute_result"
    },
    {
     "data": {
      "image/png": "[encoded data removed]",
      "text/plain": [
       "<Figure size 1296x216 with 1 Axes>"
      ]
     },
     "metadata": {
      "needs_background": "light"
     },
     "output_type": "display_data"
    }
   ],
   "source": [
    "df[['Средняя цена']].plot(figsize=(18,3))"
   ]
  },
  {
   "cell_type": "markdown",
   "metadata": {},
   "source": [
    "Можно отобразить две кривые на одном графике.\n",
    "\n",
    "В некотрых случаях, их удобно привести из абсолютных значений в относительные. Для этого можно все значения разделить на максимальное или среднее значение ряда. Это позволит сделать данные более наглядными. "
   ]
  },
  {
   "cell_type": "code",
   "execution_count": 14,
   "metadata": {},
   "outputs": [
    {
     "data": {
      "text/plain": [
       "<Figure size 432x288 with 0 Axes>"
      ]
     },
     "metadata": {},
     "output_type": "display_data"
    },
    {
     "data": {
      "image/png": "[encoded data removed]",
      "text/plain": [
       "<Figure size 1080x216 with 1 Axes>"
      ]
     },
     "metadata": {
      "needs_background": "light"
     },
     "output_type": "display_data"
    }
   ],
   "source": [
    "plt.figure()\n",
    "df[['Продажи', 'Рекламные контакты']].plot(figsize=(15,3)); \n",
    "plt.legend();"
   ]
  },
  {
   "cell_type": "markdown",
   "metadata": {},
   "source": [
    "Часто хочется увидеть сразу несколько зависимостей.\n",
    "\n",
    "Построение этой диаграммы требует некоторого ресурса компьютера. Также, чтобы было нагляднее, указывайте ограниченное количество столбцов. В противном случае, вычисления могут занять некоторое время и графики будут слишком мелкими.\n",
    "\n",
    "Список названий столбцов можно изменять: добавлять новые или удалять существующие. "
   ]
  },
  {
   "cell_type": "code",
   "execution_count": 15,
   "metadata": {},
   "outputs": [
    {
     "data": {
      "text/plain": [
       "<seaborn.axisgrid.PairGrid at 0x24583738c50>"
      ]
     },
     "execution_count": 15,
     "metadata": {},
     "output_type": "execute_result"
    },
    {
     "data": {
      "image/png": "[encoded data removed]",
      "text/plain": [
       "<Figure size 1512x1512 with 56 Axes>"
      ]
     },
     "metadata": {
      "needs_background": "light"
     },
     "output_type": "display_data"
    }
   ],
   "source": [
    "sns.pairplot(df[['Продажи', 'Сезонность', 'Средняя цена', 'Наружка', 'Промо', 'Интернет', 'Известность']],height=3)"
   ]
  },
  {
   "cell_type": "markdown",
   "metadata": {},
   "source": [
    "На диаграммах рассеивания пар признаков, можно увидеть зависимости. Оценить наличие зависимостей количественно нам поможет рассчет парных корреляций. "
   ]
  },
  {
   "cell_type": "code",
   "execution_count": 16,
   "metadata": {},
   "outputs": [
    {
     "data": {
      "text/html": [
       "<div>\n",
       "<style scoped>\n",
       "    .dataframe tbody tr th:only-of-type {\n",
       "        vertical-align: middle;\n",
       "    }\n",
       "\n",
       "    .dataframe tbody tr th {\n",
       "        vertical-align: top;\n",
       "    }\n",
       "\n",
       "    .dataframe thead th {\n",
       "        text-align: right;\n",
       "    }\n",
       "</style>\n",
       "<table border=\"1\" class=\"dataframe\">\n",
       "  <thead>\n",
       "    <tr style=\"text-align: right;\">\n",
       "      <th></th>\n",
       "      <th>Продажи</th>\n",
       "      <th>Сезонность</th>\n",
       "      <th>Средняя цена</th>\n",
       "      <th>Акции</th>\n",
       "      <th>Наружка</th>\n",
       "      <th>Промо</th>\n",
       "      <th>Интернет</th>\n",
       "      <th>PR</th>\n",
       "      <th>Публикации</th>\n",
       "      <th>Известность</th>\n",
       "      <th>Рекламные контакты</th>\n",
       "      <th>Лояльность</th>\n",
       "      <th>Поиск</th>\n",
       "      <th>Конкурент 1</th>\n",
       "      <th>Конкурент 2</th>\n",
       "      <th>Конкурент 3</th>\n",
       "    </tr>\n",
       "  </thead>\n",
       "  <tbody>\n",
       "    <tr>\n",
       "      <th>Продажи</th>\n",
       "      <td>1.000000</td>\n",
       "      <td>0.451495</td>\n",
       "      <td>-0.863836</td>\n",
       "      <td>0.708902</td>\n",
       "      <td>0.460641</td>\n",
       "      <td>0.261048</td>\n",
       "      <td>-0.106296</td>\n",
       "      <td>-0.206920</td>\n",
       "      <td>0.201714</td>\n",
       "      <td>-0.220181</td>\n",
       "      <td>0.546700</td>\n",
       "      <td>0.516626</td>\n",
       "      <td>0.406099</td>\n",
       "      <td>0.414458</td>\n",
       "      <td>0.603970</td>\n",
       "      <td>0.194866</td>\n",
       "    </tr>\n",
       "    <tr>\n",
       "      <th>Сезонность</th>\n",
       "      <td>0.451495</td>\n",
       "      <td>1.000000</td>\n",
       "      <td>-0.396435</td>\n",
       "      <td>0.129791</td>\n",
       "      <td>0.106189</td>\n",
       "      <td>0.164098</td>\n",
       "      <td>-0.171114</td>\n",
       "      <td>0.278840</td>\n",
       "      <td>0.352332</td>\n",
       "      <td>-0.166217</td>\n",
       "      <td>0.564196</td>\n",
       "      <td>0.056930</td>\n",
       "      <td>0.713460</td>\n",
       "      <td>0.964213</td>\n",
       "      <td>0.909400</td>\n",
       "      <td>0.831989</td>\n",
       "    </tr>\n",
       "    <tr>\n",
       "      <th>Средняя цена</th>\n",
       "      <td>-0.863836</td>\n",
       "      <td>-0.396435</td>\n",
       "      <td>1.000000</td>\n",
       "      <td>-0.502519</td>\n",
       "      <td>-0.457103</td>\n",
       "      <td>0.011371</td>\n",
       "      <td>0.318938</td>\n",
       "      <td>0.122482</td>\n",
       "      <td>0.029587</td>\n",
       "      <td>0.500651</td>\n",
       "      <td>-0.280960</td>\n",
       "      <td>-0.446159</td>\n",
       "      <td>-0.197918</td>\n",
       "      <td>-0.381071</td>\n",
       "      <td>-0.473656</td>\n",
       "      <td>-0.073258</td>\n",
       "    </tr>\n",
       "    <tr>\n",
       "      <th>Акции</th>\n",
       "      <td>0.708902</td>\n",
       "      <td>0.129791</td>\n",
       "      <td>-0.502519</td>\n",
       "      <td>1.000000</td>\n",
       "      <td>0.227619</td>\n",
       "      <td>0.384887</td>\n",
       "      <td>0.508933</td>\n",
       "      <td>0.115396</td>\n",
       "      <td>0.467095</td>\n",
       "      <td>0.167360</td>\n",
       "      <td>0.652394</td>\n",
       "      <td>0.577653</td>\n",
       "      <td>0.448087</td>\n",
       "      <td>0.101495</td>\n",
       "      <td>0.291539</td>\n",
       "      <td>0.145475</td>\n",
       "    </tr>\n",
       "    <tr>\n",
       "      <th>Наружка</th>\n",
       "      <td>0.460641</td>\n",
       "      <td>0.106189</td>\n",
       "      <td>-0.457103</td>\n",
       "      <td>0.227619</td>\n",
       "      <td>1.000000</td>\n",
       "      <td>-0.617896</td>\n",
       "      <td>-0.439744</td>\n",
       "      <td>0.177631</td>\n",
       "      <td>-0.559314</td>\n",
       "      <td>-0.669705</td>\n",
       "      <td>-0.235948</td>\n",
       "      <td>-0.071883</td>\n",
       "      <td>-0.312680</td>\n",
       "      <td>0.145442</td>\n",
       "      <td>0.269689</td>\n",
       "      <td>-0.206893</td>\n",
       "    </tr>\n",
       "    <tr>\n",
       "      <th>Промо</th>\n",
       "      <td>0.261048</td>\n",
       "      <td>0.164098</td>\n",
       "      <td>0.011371</td>\n",
       "      <td>0.384887</td>\n",
       "      <td>-0.617896</td>\n",
       "      <td>1.000000</td>\n",
       "      <td>0.572849</td>\n",
       "      <td>-0.315645</td>\n",
       "      <td>0.848205</td>\n",
       "      <td>0.691502</td>\n",
       "      <td>0.758344</td>\n",
       "      <td>0.462158</td>\n",
       "      <td>0.668353</td>\n",
       "      <td>0.048547</td>\n",
       "      <td>0.173588</td>\n",
       "      <td>0.364401</td>\n",
       "    </tr>\n",
       "    <tr>\n",
       "      <th>Интернет</th>\n",
       "      <td>-0.106296</td>\n",
       "      <td>-0.171114</td>\n",
       "      <td>0.318938</td>\n",
       "      <td>0.508933</td>\n",
       "      <td>-0.439744</td>\n",
       "      <td>0.572849</td>\n",
       "      <td>1.000000</td>\n",
       "      <td>0.165392</td>\n",
       "      <td>0.580723</td>\n",
       "      <td>0.740952</td>\n",
       "      <td>0.517097</td>\n",
       "      <td>0.099402</td>\n",
       "      <td>0.450164</td>\n",
       "      <td>-0.183481</td>\n",
       "      <td>-0.063074</td>\n",
       "      <td>0.099056</td>\n",
       "    </tr>\n",
       "    <tr>\n",
       "      <th>PR</th>\n",
       "      <td>-0.206920</td>\n",
       "      <td>0.278840</td>\n",
       "      <td>0.122482</td>\n",
       "      <td>0.115396</td>\n",
       "      <td>0.177631</td>\n",
       "      <td>-0.315645</td>\n",
       "      <td>0.165392</td>\n",
       "      <td>1.000000</td>\n",
       "      <td>0.082314</td>\n",
       "      <td>-0.124141</td>\n",
       "      <td>0.056785</td>\n",
       "      <td>-0.243160</td>\n",
       "      <td>0.125254</td>\n",
       "      <td>0.224261</td>\n",
       "      <td>0.178919</td>\n",
       "      <td>0.331658</td>\n",
       "    </tr>\n",
       "    <tr>\n",
       "      <th>Публикации</th>\n",
       "      <td>0.201714</td>\n",
       "      <td>0.352332</td>\n",
       "      <td>0.029587</td>\n",
       "      <td>0.467095</td>\n",
       "      <td>-0.559314</td>\n",
       "      <td>0.848205</td>\n",
       "      <td>0.580723</td>\n",
       "      <td>0.082314</td>\n",
       "      <td>1.000000</td>\n",
       "      <td>0.582684</td>\n",
       "      <td>0.750401</td>\n",
       "      <td>0.589688</td>\n",
       "      <td>0.708393</td>\n",
       "      <td>0.257353</td>\n",
       "      <td>0.235202</td>\n",
       "      <td>0.561908</td>\n",
       "    </tr>\n",
       "    <tr>\n",
       "      <th>Известность</th>\n",
       "      <td>-0.220181</td>\n",
       "      <td>-0.166217</td>\n",
       "      <td>0.500651</td>\n",
       "      <td>0.167360</td>\n",
       "      <td>-0.669705</td>\n",
       "      <td>0.691502</td>\n",
       "      <td>0.740952</td>\n",
       "      <td>-0.124141</td>\n",
       "      <td>0.582684</td>\n",
       "      <td>1.000000</td>\n",
       "      <td>0.472588</td>\n",
       "      <td>-0.004285</td>\n",
       "      <td>0.477195</td>\n",
       "      <td>-0.186633</td>\n",
       "      <td>-0.058686</td>\n",
       "      <td>0.221472</td>\n",
       "    </tr>\n",
       "    <tr>\n",
       "      <th>Рекламные контакты</th>\n",
       "      <td>0.546700</td>\n",
       "      <td>0.564196</td>\n",
       "      <td>-0.280960</td>\n",
       "      <td>0.652394</td>\n",
       "      <td>-0.235948</td>\n",
       "      <td>0.758344</td>\n",
       "      <td>0.517097</td>\n",
       "      <td>0.056785</td>\n",
       "      <td>0.750401</td>\n",
       "      <td>0.472588</td>\n",
       "      <td>1.000000</td>\n",
       "      <td>0.355592</td>\n",
       "      <td>0.940282</td>\n",
       "      <td>0.461858</td>\n",
       "      <td>0.633489</td>\n",
       "      <td>0.698122</td>\n",
       "    </tr>\n",
       "    <tr>\n",
       "      <th>Лояльность</th>\n",
       "      <td>0.516626</td>\n",
       "      <td>0.056930</td>\n",
       "      <td>-0.446159</td>\n",
       "      <td>0.577653</td>\n",
       "      <td>-0.071883</td>\n",
       "      <td>0.462158</td>\n",
       "      <td>0.099402</td>\n",
       "      <td>-0.243160</td>\n",
       "      <td>0.589688</td>\n",
       "      <td>-0.004285</td>\n",
       "      <td>0.355592</td>\n",
       "      <td>1.000000</td>\n",
       "      <td>0.167390</td>\n",
       "      <td>0.008270</td>\n",
       "      <td>-0.055357</td>\n",
       "      <td>0.061132</td>\n",
       "    </tr>\n",
       "    <tr>\n",
       "      <th>Поиск</th>\n",
       "      <td>0.406099</td>\n",
       "      <td>0.713460</td>\n",
       "      <td>-0.197918</td>\n",
       "      <td>0.448087</td>\n",
       "      <td>-0.312680</td>\n",
       "      <td>0.668353</td>\n",
       "      <td>0.450164</td>\n",
       "      <td>0.125254</td>\n",
       "      <td>0.708393</td>\n",
       "      <td>0.477195</td>\n",
       "      <td>0.940282</td>\n",
       "      <td>0.167390</td>\n",
       "      <td>1.000000</td>\n",
       "      <td>0.652981</td>\n",
       "      <td>0.750819</td>\n",
       "      <td>0.838656</td>\n",
       "    </tr>\n",
       "    <tr>\n",
       "      <th>Конкурент 1</th>\n",
       "      <td>0.414458</td>\n",
       "      <td>0.964213</td>\n",
       "      <td>-0.381071</td>\n",
       "      <td>0.101495</td>\n",
       "      <td>0.145442</td>\n",
       "      <td>0.048547</td>\n",
       "      <td>-0.183481</td>\n",
       "      <td>0.224261</td>\n",
       "      <td>0.257353</td>\n",
       "      <td>-0.186633</td>\n",
       "      <td>0.461858</td>\n",
       "      <td>0.008270</td>\n",
       "      <td>0.652981</td>\n",
       "      <td>1.000000</td>\n",
       "      <td>0.899386</td>\n",
       "      <td>0.781614</td>\n",
       "    </tr>\n",
       "    <tr>\n",
       "      <th>Конкурент 2</th>\n",
       "      <td>0.603970</td>\n",
       "      <td>0.909400</td>\n",
       "      <td>-0.473656</td>\n",
       "      <td>0.291539</td>\n",
       "      <td>0.269689</td>\n",
       "      <td>0.173588</td>\n",
       "      <td>-0.063074</td>\n",
       "      <td>0.178919</td>\n",
       "      <td>0.235202</td>\n",
       "      <td>-0.058686</td>\n",
       "      <td>0.633489</td>\n",
       "      <td>-0.055357</td>\n",
       "      <td>0.750819</td>\n",
       "      <td>0.899386</td>\n",
       "      <td>1.000000</td>\n",
       "      <td>0.742820</td>\n",
       "    </tr>\n",
       "    <tr>\n",
       "      <th>Конкурент 3</th>\n",
       "      <td>0.194866</td>\n",
       "      <td>0.831989</td>\n",
       "      <td>-0.073258</td>\n",
       "      <td>0.145475</td>\n",
       "      <td>-0.206893</td>\n",
       "      <td>0.364401</td>\n",
       "      <td>0.099056</td>\n",
       "      <td>0.331658</td>\n",
       "      <td>0.561908</td>\n",
       "      <td>0.221472</td>\n",
       "      <td>0.698122</td>\n",
       "      <td>0.061132</td>\n",
       "      <td>0.838656</td>\n",
       "      <td>0.781614</td>\n",
       "      <td>0.742820</td>\n",
       "      <td>1.000000</td>\n",
       "    </tr>\n",
       "  </tbody>\n",
       "</table>\n",
       "</div>"
      ],
      "text/plain": [
       "                     Продажи  Сезонность  Средняя цена     Акции   Наружка  \\\n",
       "Продажи             1.000000    0.451495     -0.863836  0.708902  0.460641   \n",
       "Сезонность          0.451495    1.000000     -0.396435  0.129791  0.106189   \n",
       "Средняя цена       -0.863836   -0.396435      1.000000 -0.502519 -0.457103   \n",
       "Акции               0.708902    0.129791     -0.502519  1.000000  0.227619   \n",
       "Наружка             0.460641    0.106189     -0.457103  0.227619  1.000000   \n",
       "Промо               0.261048    0.164098      0.011371  0.384887 -0.617896   \n",
       "Интернет           -0.106296   -0.171114      0.318938  0.508933 -0.439744   \n",
       "PR                 -0.206920    0.278840      0.122482  0.115396  0.177631   \n",
       "Публикации          0.201714    0.352332      0.029587  0.467095 -0.559314   \n",
       "Известность        -0.220181   -0.166217      0.500651  0.167360 -0.669705   \n",
       "Рекламные контакты  0.546700    0.564196     -0.280960  0.652394 -0.235948   \n",
       "Лояльность          0.516626    0.056930     -0.446159  0.577653 -0.071883   \n",
       "Поиск               0.406099    0.713460     -0.197918  0.448087 -0.312680   \n",
       "Конкурент 1         0.414458    0.964213     -0.381071  0.101495  0.145442   \n",
       "Конкурент 2         0.603970    0.909400     -0.473656  0.291539  0.269689   \n",
       "Конкурент 3         0.194866    0.831989     -0.073258  0.145475 -0.206893   \n",
       "\n",
       "                       Промо  Интернет        PR  Публикации  Известность  \\\n",
       "Продажи             0.261048 -0.106296 -0.206920    0.201714    -0.220181   \n",
       "Сезонность          0.164098 -0.171114  0.278840    0.352332    -0.166217   \n",
       "Средняя цена        0.011371  0.318938  0.122482    0.029587     0.500651   \n",
       "Акции               0.384887  0.508933  0.115396    0.467095     0.167360   \n",
       "Наружка            -0.617896 -0.439744  0.177631   -0.559314    -0.669705   \n",
       "Промо               1.000000  0.572849 -0.315645    0.848205     0.691502   \n",
       "Интернет            0.572849  1.000000  0.165392    0.580723     0.740952   \n",
       "PR                 -0.315645  0.165392  1.000000    0.082314    -0.124141   \n",
       "Публикации          0.848205  0.580723  0.082314    1.000000     0.582684   \n",
       "Известность         0.691502  0.740952 -0.124141    0.582684     1.000000   \n",
       "Рекламные контакты  0.758344  0.517097  0.056785    0.750401     0.472588   \n",
       "Лояльность          0.462158  0.099402 -0.243160    0.589688    -0.004285   \n",
       "Поиск               0.668353  0.450164  0.125254    0.708393     0.477195   \n",
       "Конкурент 1         0.048547 -0.183481  0.224261    0.257353    -0.186633   \n",
       "Конкурент 2         0.173588 -0.063074  0.178919    0.235202    -0.058686   \n",
       "Конкурент 3         0.364401  0.099056  0.331658    0.561908     0.221472   \n",
       "\n",
       "                    Рекламные контакты  Лояльность     Поиск  Конкурент 1  \\\n",
       "Продажи                       0.546700    0.516626  0.406099     0.414458   \n",
       "Сезонность                    0.564196    0.056930  0.713460     0.964213   \n",
       "Средняя цена                 -0.280960   -0.446159 -0.197918    -0.381071   \n",
       "Акции                         0.652394    0.577653  0.448087     0.101495   \n",
       "Наружка                      -0.235948   -0.071883 -0.312680     0.145442   \n",
       "Промо                         0.758344    0.462158  0.668353     0.048547   \n",
       "Интернет                      0.517097    0.099402  0.450164    -0.183481   \n",
       "PR                            0.056785   -0.243160  0.125254     0.224261   \n",
       "Публикации                    0.750401    0.589688  0.708393     0.257353   \n",
       "Известность                   0.472588   -0.004285  0.477195    -0.186633   \n",
       "Рекламные контакты            1.000000    0.355592  0.940282     0.461858   \n",
       "Лояльность                    0.355592    1.000000  0.167390     0.008270   \n",
       "Поиск                         0.940282    0.167390  1.000000     0.652981   \n",
       "Конкурент 1                   0.461858    0.008270  0.652981     1.000000   \n",
       "Конкурент 2                   0.633489   -0.055357  0.750819     0.899386   \n",
       "Конкурент 3                   0.698122    0.061132  0.838656     0.781614   \n",
       "\n",
       "                    Конкурент 2  Конкурент 3  \n",
       "Продажи                0.603970     0.194866  \n",
       "Сезонность             0.909400     0.831989  \n",
       "Средняя цена          -0.473656    -0.073258  \n",
       "Акции                  0.291539     0.145475  \n",
       "Наружка                0.269689    -0.206893  \n",
       "Промо                  0.173588     0.364401  \n",
       "Интернет              -0.063074     0.099056  \n",
       "PR                     0.178919     0.331658  \n",
       "Публикации             0.235202     0.561908  \n",
       "Известность           -0.058686     0.221472  \n",
       "Рекламные контакты     0.633489     0.698122  \n",
       "Лояльность            -0.055357     0.061132  \n",
       "Поиск                  0.750819     0.838656  \n",
       "Конкурент 1            0.899386     0.781614  \n",
       "Конкурент 2            1.000000     0.742820  \n",
       "Конкурент 3            0.742820     1.000000  "
      ]
     },
     "execution_count": 16,
     "metadata": {},
     "output_type": "execute_result"
    }
   ],
   "source": [
    "df.corr()"
   ]
  },
  {
   "cell_type": "markdown",
   "metadata": {},
   "source": [
    "Результаты можно представить более удобно в виде тепловой карты. Для этого потребуется несколько строк кода. \n",
    "\n",
    "На тепловой карте мы выведем только корреляции больше 0.3 и меньше -0.3."
   ]
  },
  {
   "cell_type": "code",
   "execution_count": 17,
   "metadata": {},
   "outputs": [
    {
     "data": {
      "image/png": "[encoded data removed]",
      "text/plain": [
       "<Figure size 1008x1008 with 2 Axes>"
      ]
     },
     "metadata": {
      "needs_background": "light"
     },
     "output_type": "display_data"
    }
   ],
   "source": [
    "corr = df.corr()\n",
    "plt.figure(figsize=(14, 14))\n",
    "sns.heatmap(corr[(corr >= 0.3) | (corr <= -0.3)],\n",
    "            cmap=\"RdBu_r\", vmax=1.0, vmin=-1.0, linewidths=0.1,\n",
    "            annot=True, annot_kws={\"size\": 8}, square=True);"
   ]
  },
  {
   "cell_type": "markdown",
   "metadata": {},
   "source": [
    "Полезно для отбора признаков взглянуть на тепловую карту, но с учетом иерархической кластеризации признаков. Так, например, мы видим, что сезонность и количество поисковых запросов по \"Конкуренту 1\" попали в один корневой кластер. Или, также в один корневой кластер попали \"Акции\" и \"Лояльность\"."
   ]
  },
  {
   "cell_type": "code",
   "execution_count": 18,
   "metadata": {},
   "outputs": [
    {
     "data": {
      "text/plain": [
       "<seaborn.matrix.ClusterGrid at 0x24586fca940>"
      ]
     },
     "execution_count": 18,
     "metadata": {},
     "output_type": "execute_result"
    },
    {
     "data": {
      "text/plain": [
       "<Figure size 1008x1008 with 0 Axes>"
      ]
     },
     "metadata": {},
     "output_type": "display_data"
    },
    {
     "data": {
      "image/png": "[encoded data removed]",
      "text/plain": [
       "<Figure size 720x720 with 4 Axes>"
      ]
     },
     "metadata": {
      "needs_background": "light"
     },
     "output_type": "display_data"
    }
   ],
   "source": [
    "plt.figure(figsize=(14,14))\n",
    "sns.clustermap(df.corr())"
   ]
  },
  {
   "cell_type": "markdown",
   "metadata": {},
   "source": [
    "При отборе из большого числа признаков также часто стоит обращать внимание на вариацию зависимой переменной. Чемы выше вариация переменной, тем более сильное влияние, при наличии значимой корреляции, она может оказывать на целевую переменную.\n",
    "\n",
    "Ниже, немного кода, исключительно для форматирования и более удобного представления результатов."
   ]
  },
  {
   "cell_type": "code",
   "execution_count": 20,
   "metadata": {},
   "outputs": [
    {
     "data": {
      "text/html": [
       "<div>\n",
       "<style scoped>\n",
       "    .dataframe tbody tr th:only-of-type {\n",
       "        vertical-align: middle;\n",
       "    }\n",
       "\n",
       "    .dataframe tbody tr th {\n",
       "        vertical-align: top;\n",
       "    }\n",
       "\n",
       "    .dataframe thead th {\n",
       "        text-align: right;\n",
       "    }\n",
       "</style>\n",
       "<table border=\"1\" class=\"dataframe\">\n",
       "  <thead>\n",
       "    <tr style=\"text-align: right;\">\n",
       "      <th></th>\n",
       "      <th>Признак</th>\n",
       "      <th>Вариация</th>\n",
       "      <th>Корреляция</th>\n",
       "    </tr>\n",
       "  </thead>\n",
       "  <tbody>\n",
       "    <tr>\n",
       "      <th>0</th>\n",
       "      <td>Сезонность</td>\n",
       "      <td>0.1258</td>\n",
       "      <td>0.4515</td>\n",
       "    </tr>\n",
       "    <tr>\n",
       "      <th>1</th>\n",
       "      <td>Средняя цена</td>\n",
       "      <td>0.0508</td>\n",
       "      <td>-0.8638</td>\n",
       "    </tr>\n",
       "    <tr>\n",
       "      <th>2</th>\n",
       "      <td>Акции</td>\n",
       "      <td>3.3166</td>\n",
       "      <td>0.7089</td>\n",
       "    </tr>\n",
       "    <tr>\n",
       "      <th>3</th>\n",
       "      <td>Наружка</td>\n",
       "      <td>0.1926</td>\n",
       "      <td>0.4606</td>\n",
       "    </tr>\n",
       "    <tr>\n",
       "      <th>4</th>\n",
       "      <td>Промо</td>\n",
       "      <td>1.0609</td>\n",
       "      <td>0.2610</td>\n",
       "    </tr>\n",
       "    <tr>\n",
       "      <th>5</th>\n",
       "      <td>Интернет</td>\n",
       "      <td>0.3476</td>\n",
       "      <td>-0.1063</td>\n",
       "    </tr>\n",
       "    <tr>\n",
       "      <th>6</th>\n",
       "      <td>PR</td>\n",
       "      <td>0.2861</td>\n",
       "      <td>-0.2069</td>\n",
       "    </tr>\n",
       "    <tr>\n",
       "      <th>7</th>\n",
       "      <td>Публикации</td>\n",
       "      <td>0.1623</td>\n",
       "      <td>0.2017</td>\n",
       "    </tr>\n",
       "    <tr>\n",
       "      <th>8</th>\n",
       "      <td>Известность</td>\n",
       "      <td>0.1951</td>\n",
       "      <td>-0.2202</td>\n",
       "    </tr>\n",
       "    <tr>\n",
       "      <th>9</th>\n",
       "      <td>Рекламные контакты</td>\n",
       "      <td>0.1800</td>\n",
       "      <td>0.5467</td>\n",
       "    </tr>\n",
       "    <tr>\n",
       "      <th>10</th>\n",
       "      <td>Лояльность</td>\n",
       "      <td>0.1054</td>\n",
       "      <td>0.5166</td>\n",
       "    </tr>\n",
       "    <tr>\n",
       "      <th>11</th>\n",
       "      <td>Поиск</td>\n",
       "      <td>0.1633</td>\n",
       "      <td>0.4061</td>\n",
       "    </tr>\n",
       "    <tr>\n",
       "      <th>12</th>\n",
       "      <td>Конкурент 1</td>\n",
       "      <td>0.1588</td>\n",
       "      <td>0.4145</td>\n",
       "    </tr>\n",
       "    <tr>\n",
       "      <th>13</th>\n",
       "      <td>Конкурент 2</td>\n",
       "      <td>0.0732</td>\n",
       "      <td>0.6040</td>\n",
       "    </tr>\n",
       "    <tr>\n",
       "      <th>14</th>\n",
       "      <td>Конкурент 3</td>\n",
       "      <td>0.1424</td>\n",
       "      <td>0.1949</td>\n",
       "    </tr>\n",
       "  </tbody>\n",
       "</table>\n",
       "</div>"
      ],
      "text/plain": [
       "               Признак  Вариация  Корреляция\n",
       "0           Сезонность    0.1258      0.4515\n",
       "1         Средняя цена    0.0508     -0.8638\n",
       "2                Акции    3.3166      0.7089\n",
       "3              Наружка    0.1926      0.4606\n",
       "4                Промо    1.0609      0.2610\n",
       "5             Интернет    0.3476     -0.1063\n",
       "6                   PR    0.2861     -0.2069\n",
       "7           Публикации    0.1623      0.2017\n",
       "8          Известность    0.1951     -0.2202\n",
       "9   Рекламные контакты    0.1800      0.5467\n",
       "10          Лояльность    0.1054      0.5166\n",
       "11               Поиск    0.1633      0.4061\n",
       "12         Конкурент 1    0.1588      0.4145\n",
       "13         Конкурент 2    0.0732      0.6040\n",
       "14         Конкурент 3    0.1424      0.1949"
      ]
     },
     "execution_count": 20,
     "metadata": {},
     "output_type": "execute_result"
    }
   ],
   "source": [
    "# обратите внимание, что должны быть только количественные переменные\n",
    "cor=df.corr()\n",
    "ar=[]\n",
    "#print('Первое число коэффициент вариации, второе показатель корреляции')\n",
    "for i in df.columns[2:]:\n",
    "    #print(round(variation(df[i]),4), '\\t', round(cor['Продажи'][i],4), '\\t-<', i)\n",
    "    ar.append([i, round(variation(df[i]),4), round(cor['Продажи'][i],4)])\n",
    "df_cv=pd.DataFrame(ar, columns=['Признак', 'Вариация','Корреляция'])\n",
    "df_cv"
   ]
  },
  {
   "cell_type": "markdown",
   "metadata": {},
   "source": [
    "Некоторые зависимости можно изучить более детально. Изменяйте ниже значения названий осей (x, y). Вы будете получить не только диаграммы рассеивания, но и гистограммы по каждому из значений. "
   ]
  },
  {
   "cell_type": "code",
   "execution_count": 23,
   "metadata": {},
   "outputs": [
    {
     "data": {
      "image/png": "[encoded data removed]",
      "text/plain": [
       "<Figure size 432x432 with 3 Axes>"
      ]
     },
     "metadata": {
      "needs_background": "light"
     },
     "output_type": "display_data"
    }
   ],
   "source": [
    "x='Сезонность'\n",
    "y='Конкурент 1'\n",
    "sns.jointplot(x=x, y=y, data=df, kind='reg');\n",
    "# подпишем оси координат\n",
    "plt.xlabel(x);\n",
    "plt.ylabel(y);\n",
    "plt.show();"
   ]
  },
  {
   "cell_type": "markdown",
   "metadata": {},
   "source": [
    "# Отбор признаков\n",
    "\n",
    "Для построении модели нам надо выделить самые важные признаки. Часть завиисмостей мы увидели изучая данные выше. Теперь используем более мощные эвристики для выделения ключевых факторов, которые влияют на результат. "
   ]
  },
  {
   "cell_type": "markdown",
   "metadata": {},
   "source": [
    "## Случайный лес (Random Forest)\n",
    "\n",
    "Ансамблевые алгоритмы на основе деревьев решений, такие как случайный лес (random forest), позволяют оценить важность признаков.\n",
    "\n",
    "Загрузим дополнительные библиотеки. "
   ]
  },
  {
   "cell_type": "code",
   "execution_count": 24,
   "metadata": {},
   "outputs": [],
   "source": [
    "from sklearn import tree\n",
    "from sklearn.ensemble import RandomForestRegressor\n",
    "from sklearn.metrics import r2_score"
   ]
  },
  {
   "cell_type": "markdown",
   "metadata": {},
   "source": [
    "Будем использовать не все колонки. Так, например, нам не нужна колонка \"Дата\".\n",
    "\n",
    "Также надо разделить признаки и целевую переменную \"Продажи\"."
   ]
  },
  {
   "cell_type": "code",
   "execution_count": 25,
   "metadata": {},
   "outputs": [
    {
     "data": {
      "text/plain": [
       "Index(['Дата', 'Продажи', 'Сезонность', 'Средняя цена', 'Акции', 'Наружка',\n",
       "       'Промо', 'Интернет', 'PR', 'Публикации', 'Известность',\n",
       "       'Рекламные контакты', 'Лояльность', 'Поиск', 'Конкурент 1',\n",
       "       'Конкурент 2', 'Конкурент 3'],\n",
       "      dtype='object')"
      ]
     },
     "execution_count": 25,
     "metadata": {},
     "output_type": "execute_result"
    }
   ],
   "source": [
    "df.columns"
   ]
  },
  {
   "cell_type": "markdown",
   "metadata": {},
   "source": [
    "В переменной *col* будем хранить список признаков, влияние которых будем оценивать. "
   ]
  },
  {
   "cell_type": "code",
   "execution_count": 27,
   "metadata": {},
   "outputs": [],
   "source": [
    "col=['Сезонность', 'Средняя цена', 'Акции', 'Наружка',\n",
    "       'Промо', 'Интернет', 'PR', 'Публикации', 'Известность',\n",
    "       'Рекламные контакты', 'Лояльность', 'Поиск']"
   ]
  },
  {
   "cell_type": "markdown",
   "metadata": {},
   "source": [
    "Y будет хранить целевое значение, X - таблицу с переменными, которые ее объясняют."
   ]
  },
  {
   "cell_type": "code",
   "execution_count": 28,
   "metadata": {},
   "outputs": [
    {
     "data": {
      "text/plain": [
       "RandomForestRegressor(bootstrap=True, criterion='mse', max_depth=None,\n",
       "                      max_features='auto', max_leaf_nodes=None,\n",
       "                      min_impurity_decrease=0.0, min_impurity_split=None,\n",
       "                      min_samples_leaf=1, min_samples_split=2,\n",
       "                      min_weight_fraction_leaf=0.0, n_estimators=100,\n",
       "                      n_jobs=None, oob_score=False, random_state=None,\n",
       "                      verbose=0, warm_start=False)"
      ]
     },
     "execution_count": 28,
     "metadata": {},
     "output_type": "execute_result"
    }
   ],
   "source": [
    "#Разделим на влияющие и целевую переменную\n",
    "X=df[col]\n",
    "Y=df['Продажи']\n",
    "#создадим модель\n",
    "model=RandomForestRegressor(n_estimators=100)\n",
    "#натренируем модель\n",
    "model.fit(X, Y)"
   ]
  },
  {
   "cell_type": "markdown",
   "metadata": {},
   "source": [
    "Выведем упорядоченный по убыванию значимости список признаков. Сумма значимости признаков равна 1."
   ]
  },
  {
   "cell_type": "code",
   "execution_count": 31,
   "metadata": {},
   "outputs": [
    {
     "name": "stdout",
     "output_type": "stream",
     "text": [
      "Значимость признака:\n"
     ]
    },
    {
     "data": {
      "text/plain": [
       "[[0.3319, 'Средняя цена'],\n",
       " [0.1939, 'Интернет'],\n",
       " [0.0913, 'Лояльность'],\n",
       " [0.0844, 'Рекламные контакты'],\n",
       " [0.0749, 'Сезонность'],\n",
       " [0.0614, 'Поиск'],\n",
       " [0.038, 'Акции'],\n",
       " [0.037, 'Публикации'],\n",
       " [0.0326, 'Наружка'],\n",
       " [0.0325, 'PR'],\n",
       " [0.0176, 'Промо'],\n",
       " [0.0044, 'Известность']]"
      ]
     },
     "execution_count": 31,
     "metadata": {},
     "output_type": "execute_result"
    }
   ],
   "source": [
    "importances = model.feature_importances_\n",
    "indices = np.argsort(importances)[::-1]\n",
    "\n",
    "ar_f=[]\n",
    "for f, idx in enumerate(indices):\n",
    "    ar_f.append([round(importances[idx],4), col[idx]])\n",
    "print(\"Значимость признака:\")\n",
    "ar_f.sort(reverse=True)\n",
    "ar_f"
   ]
  },
  {
   "cell_type": "markdown",
   "metadata": {},
   "source": [
    "Более наглядно оторбразить значимость на  гистограмме."
   ]
  },
  {
   "cell_type": "code",
   "execution_count": 34,
   "metadata": {},
   "outputs": [
    {
     "data": {
      "image/png": "[encoded data removed]",
      "text/plain": [
       "<Figure size 576x576 with 1 Axes>"
      ]
     },
     "metadata": {
      "needs_background": "light"
     },
     "output_type": "display_data"
    }
   ],
   "source": [
    "#удобнее отобразить на столбчатой диаграмме\n",
    "d_first = len(col)\n",
    "plt.figure(figsize=(8, 8))\n",
    "plt.title(\"Значимость признака\")\n",
    "plt.bar(range(d_first), importances[indices[:d_first]], align='center')\n",
    "plt.xticks(range(d_first), np.array(col)[indices[:d_first]], rotation=90)\n",
    "plt.xlim([-1, d_first]);"
   ]
  },
  {
   "cell_type": "markdown",
   "metadata": {},
   "source": [
    "Точность модели модно оценить через метрику R2 (в идеале стремится к 1), а также посмотреть разброс фактических и предсказанных значений на диаграмме."
   ]
  },
  {
   "cell_type": "code",
   "execution_count": 36,
   "metadata": {},
   "outputs": [
    {
     "data": {
      "text/plain": [
       "0.7213212361902976"
      ]
     },
     "execution_count": 36,
     "metadata": {},
     "output_type": "execute_result"
    }
   ],
   "source": [
    "r2_score(model.predict(X), Y)"
   ]
  },
  {
   "cell_type": "code",
   "execution_count": 35,
   "metadata": {},
   "outputs": [
    {
     "data": {
      "text/plain": [
       "<matplotlib.axes._subplots.AxesSubplot at 0x245875ebdd8>"
      ]
     },
     "execution_count": 35,
     "metadata": {},
     "output_type": "execute_result"
    },
    {
     "data": {
      "image/png": "[encoded data removed]",
      "text/plain": [
       "<Figure size 432x288 with 1 Axes>"
      ]
     },
     "metadata": {
      "needs_background": "light"
     },
     "output_type": "display_data"
    }
   ],
   "source": [
    "sns.regplot(model.predict(X), Y)"
   ]
  },
  {
   "cell_type": "markdown",
   "metadata": {},
   "source": [
    "В целом, мы получили удовлетворительное качество модели. "
   ]
  },
  {
   "cell_type": "markdown",
   "metadata": {},
   "source": [
    "## Одномерный отбор признаков\n",
    "\n",
    "Признаки, имеющие наиболее выраженную взаимосвязь с целевой переменной, могут быть отобраны с помощью статистических критериев. Библиотека scikit-learn содержит класс SelectKBest, реализующий одномерный отбор признаков (univariate feature selection). Этот класс можно применять совместно с различными статистическими критериями для отбора заданного количества признаков. В нашем случае, мы используем критерий chi2."
   ]
  },
  {
   "cell_type": "code",
   "execution_count": 36,
   "metadata": {},
   "outputs": [],
   "source": [
    "from sklearn.feature_selection import SelectKBest\n",
    "from sklearn.feature_selection import chi2"
   ]
  },
  {
   "cell_type": "code",
   "execution_count": 39,
   "metadata": {},
   "outputs": [
    {
     "name": "stdout",
     "output_type": "stream",
     "text": [
      "Значимость признаков в порядке убывания:\n"
     ]
    },
    {
     "data": {
      "text/html": [
       "<div>\n",
       "<style scoped>\n",
       "    .dataframe tbody tr th:only-of-type {\n",
       "        vertical-align: middle;\n",
       "    }\n",
       "\n",
       "    .dataframe tbody tr th {\n",
       "        vertical-align: top;\n",
       "    }\n",
       "\n",
       "    .dataframe thead th {\n",
       "        text-align: right;\n",
       "    }\n",
       "</style>\n",
       "<table border=\"1\" class=\"dataframe\">\n",
       "  <thead>\n",
       "    <tr style=\"text-align: right;\">\n",
       "      <th></th>\n",
       "      <th>Признак</th>\n",
       "      <th>Значимость</th>\n",
       "    </tr>\n",
       "  </thead>\n",
       "  <tbody>\n",
       "    <tr>\n",
       "      <th>0</th>\n",
       "      <td>Поиск</td>\n",
       "      <td>7837.5109</td>\n",
       "    </tr>\n",
       "    <tr>\n",
       "      <th>1</th>\n",
       "      <td>Интернет</td>\n",
       "      <td>5234.1317</td>\n",
       "    </tr>\n",
       "    <tr>\n",
       "      <th>2</th>\n",
       "      <td>Наружка</td>\n",
       "      <td>1882.5005</td>\n",
       "    </tr>\n",
       "    <tr>\n",
       "      <th>3</th>\n",
       "      <td>Рекламные контакты</td>\n",
       "      <td>1840.2139</td>\n",
       "    </tr>\n",
       "    <tr>\n",
       "      <th>4</th>\n",
       "      <td>Промо</td>\n",
       "      <td>590.9086</td>\n",
       "    </tr>\n",
       "    <tr>\n",
       "      <th>5</th>\n",
       "      <td>PR</td>\n",
       "      <td>374.5528</td>\n",
       "    </tr>\n",
       "    <tr>\n",
       "      <th>6</th>\n",
       "      <td>Публикации</td>\n",
       "      <td>137.1160</td>\n",
       "    </tr>\n",
       "    <tr>\n",
       "      <th>7</th>\n",
       "      <td>Акции</td>\n",
       "      <td>11.0000</td>\n",
       "    </tr>\n",
       "    <tr>\n",
       "      <th>8</th>\n",
       "      <td>Средняя цена</td>\n",
       "      <td>0.9153</td>\n",
       "    </tr>\n",
       "    <tr>\n",
       "      <th>9</th>\n",
       "      <td>Сезонность</td>\n",
       "      <td>0.1900</td>\n",
       "    </tr>\n",
       "    <tr>\n",
       "      <th>10</th>\n",
       "      <td>Лояльность</td>\n",
       "      <td>0.0803</td>\n",
       "    </tr>\n",
       "    <tr>\n",
       "      <th>11</th>\n",
       "      <td>Известность</td>\n",
       "      <td>0.0597</td>\n",
       "    </tr>\n",
       "  </tbody>\n",
       "</table>\n",
       "</div>"
      ],
      "text/plain": [
       "               Признак  Значимость\n",
       "0                Поиск   7837.5109\n",
       "1             Интернет   5234.1317\n",
       "2              Наружка   1882.5005\n",
       "3   Рекламные контакты   1840.2139\n",
       "4                Промо    590.9086\n",
       "5                   PR    374.5528\n",
       "6           Публикации    137.1160\n",
       "7                Акции     11.0000\n",
       "8         Средняя цена      0.9153\n",
       "9           Сезонность      0.1900\n",
       "10          Лояльность      0.0803\n",
       "11         Известность      0.0597"
      ]
     },
     "execution_count": 39,
     "metadata": {},
     "output_type": "execute_result"
    }
   ],
   "source": [
    "#разделяем на целевую и объясняющие переменные\n",
    "X = df[col].values\n",
    "Y = df['Продажи'].values\n",
    "\n",
    "#создаем и тренируем модель\n",
    "test = SelectKBest(score_func=chi2)\n",
    "fit = test.fit(X, Y)\n",
    "\n",
    "ar2=[]\n",
    "for i in range(0, len(col)):\n",
    "    ar2.append([col[i], round(fit.scores_[i],4)])\n",
    "ar2.sort(key=lambda i: i[1], reverse=True)\n",
    "df_om=pd.DataFrame(ar2, columns=['Признак', \"Значимость\"])\n",
    "print('Значимость признаков в порядке убывания:')\n",
    "df_om"
   ]
  },
  {
   "cell_type": "markdown",
   "metadata": {},
   "source": [
    "По результатам данного метода, мы получили несколько другой ранжир значимости критериев. Позже обобщим результаты."
   ]
  },
  {
   "cell_type": "markdown",
   "metadata": {},
   "source": [
    "## Рекурсивное исключение признаков\n",
    "\n",
    "Метод рекурсивного исключения признаков (recursive feature elimination, RFE) реализует следующий алгоритм: модель обучается на исходном наборе признаков и оценивает их значимость, затем исключается один или несколько наименее значимых признаков, модель обучается на оставшихся признаках, и так далее, пока не останется заданное количество лучших признаков. В документации scikit-learn вы можете подробнее прочитать о классе RFE.\n",
    "\n",
    "В примере ниже метод RFE применяется в сочетании с логистической регрессией для отбора 4-х лучших признаков. Для совместного использования с RFE можно выбирать различные модели, важно лишь, чтобы они были достаточно эффективны и совместимы с RFE.\n",
    "\n",
    "*Количество отбираемых признаков можно изменить*"
   ]
  },
  {
   "cell_type": "code",
   "execution_count": 40,
   "metadata": {},
   "outputs": [],
   "source": [
    "from sklearn.feature_selection import RFE\n",
    "from sklearn.linear_model import LogisticRegression"
   ]
  },
  {
   "cell_type": "code",
   "execution_count": 41,
   "metadata": {},
   "outputs": [
    {
     "data": {
      "text/html": [
       "<div>\n",
       "<style scoped>\n",
       "    .dataframe tbody tr th:only-of-type {\n",
       "        vertical-align: middle;\n",
       "    }\n",
       "\n",
       "    .dataframe tbody tr th {\n",
       "        vertical-align: top;\n",
       "    }\n",
       "\n",
       "    .dataframe thead th {\n",
       "        text-align: right;\n",
       "    }\n",
       "</style>\n",
       "<table border=\"1\" class=\"dataframe\">\n",
       "  <thead>\n",
       "    <tr style=\"text-align: right;\">\n",
       "      <th></th>\n",
       "      <th>Признак</th>\n",
       "      <th>Важный</th>\n",
       "      <th>Рэнк</th>\n",
       "    </tr>\n",
       "  </thead>\n",
       "  <tbody>\n",
       "    <tr>\n",
       "      <th>0</th>\n",
       "      <td>Средняя цена</td>\n",
       "      <td>True</td>\n",
       "      <td>1</td>\n",
       "    </tr>\n",
       "    <tr>\n",
       "      <th>1</th>\n",
       "      <td>Промо</td>\n",
       "      <td>True</td>\n",
       "      <td>1</td>\n",
       "    </tr>\n",
       "    <tr>\n",
       "      <th>2</th>\n",
       "      <td>PR</td>\n",
       "      <td>True</td>\n",
       "      <td>1</td>\n",
       "    </tr>\n",
       "    <tr>\n",
       "      <th>3</th>\n",
       "      <td>Публикации</td>\n",
       "      <td>True</td>\n",
       "      <td>1</td>\n",
       "    </tr>\n",
       "    <tr>\n",
       "      <th>4</th>\n",
       "      <td>Рекламные контакты</td>\n",
       "      <td>False</td>\n",
       "      <td>2</td>\n",
       "    </tr>\n",
       "    <tr>\n",
       "      <th>5</th>\n",
       "      <td>Наружка</td>\n",
       "      <td>False</td>\n",
       "      <td>3</td>\n",
       "    </tr>\n",
       "    <tr>\n",
       "      <th>6</th>\n",
       "      <td>Интернет</td>\n",
       "      <td>False</td>\n",
       "      <td>4</td>\n",
       "    </tr>\n",
       "    <tr>\n",
       "      <th>7</th>\n",
       "      <td>Поиск</td>\n",
       "      <td>False</td>\n",
       "      <td>5</td>\n",
       "    </tr>\n",
       "    <tr>\n",
       "      <th>8</th>\n",
       "      <td>Сезонность</td>\n",
       "      <td>False</td>\n",
       "      <td>6</td>\n",
       "    </tr>\n",
       "    <tr>\n",
       "      <th>9</th>\n",
       "      <td>Известность</td>\n",
       "      <td>False</td>\n",
       "      <td>7</td>\n",
       "    </tr>\n",
       "    <tr>\n",
       "      <th>10</th>\n",
       "      <td>Лояльность</td>\n",
       "      <td>False</td>\n",
       "      <td>8</td>\n",
       "    </tr>\n",
       "    <tr>\n",
       "      <th>11</th>\n",
       "      <td>Акции</td>\n",
       "      <td>False</td>\n",
       "      <td>9</td>\n",
       "    </tr>\n",
       "  </tbody>\n",
       "</table>\n",
       "</div>"
      ],
      "text/plain": [
       "               Признак  Важный  Рэнк\n",
       "0         Средняя цена    True     1\n",
       "1                Промо    True     1\n",
       "2                   PR    True     1\n",
       "3           Публикации    True     1\n",
       "4   Рекламные контакты   False     2\n",
       "5              Наружка   False     3\n",
       "6             Интернет   False     4\n",
       "7                Поиск   False     5\n",
       "8           Сезонность   False     6\n",
       "9          Известность   False     7\n",
       "10          Лояльность   False     8\n",
       "11               Акции   False     9"
      ]
     },
     "execution_count": 41,
     "metadata": {},
     "output_type": "execute_result"
    }
   ],
   "source": [
    "#создаем модель, которую будем обучать\n",
    "model = LogisticRegression(solver='liblinear', multi_class='auto')\n",
    "\n",
    "rfe = RFE(model, 4) # указано количество отбираемых признаков\n",
    "\n",
    "#обучаем модель\n",
    "fit = rfe.fit(X, Y)\n",
    "\n",
    "#выводим результаты\n",
    "ar3=[]\n",
    "for i in range(0,len(col)):\n",
    "    ar3.append([col[i], fit.support_[i], fit.ranking_[i]])\n",
    "ar3.sort(key=lambda i: i[2])\n",
    "df_rfe=pd.DataFrame(ar3, columns=[\"Признак\", \"Важный\", \"Рэнк\"])\n",
    "df_rfe"
   ]
  },
  {
   "cell_type": "markdown",
   "metadata": {},
   "source": [
    "'True' - обозначает, что фактор по мнению модели важный. Далее рэнк факторов, которые модель оцнила как не важные. "
   ]
  },
  {
   "cell_type": "markdown",
   "metadata": {},
   "source": [
    "# Множественная регрессия\n",
    "\n",
    "Задачей множественной линейной регрессии является построение линейной модели связи между набором непрерывных предикторов и непрерывной зависимой переменной. Обращайте внимание, что эта связь не всегда линейна. Тогда необходимо привести ее именно к лиенейной зависимости.\n",
    "\n",
    "Также, к сожалению, при построении модели часто встречается эффект мультиколлинеарности. В статистике под мультиколлинеарностью понимают наличие высокой корреляция между входными переменными модели множественной линейной регрессии. Мультиколлинеарность вызывает неустойчивость работы модели, когда коэффициенты регрессии сильно меняются даже при незначительном изменении исходных данных и приводят к неадекватным выводам. По этой причине мы не сможем использовать все переменные, выберем только максимально независмые и значимые (по итогам отбора).\n",
    "\n",
    "Ценность модели множественной регрессии в том, что она позволяет не только установить взаимосвязь целевой и объясняющей переменной, но и найти ее силу. "
   ]
  },
  {
   "cell_type": "code",
   "execution_count": 42,
   "metadata": {},
   "outputs": [],
   "source": [
    "import statsmodels.api as sm\n",
    "\n",
    "pd.options.mode.chained_assignment = None"
   ]
  },
  {
   "cell_type": "code",
   "execution_count": 43,
   "metadata": {},
   "outputs": [
    {
     "name": "stderr",
     "output_type": "stream",
     "text": [
      "C:\\Users\\aikoo\\AppData\\Local\\conda\\conda\\envs\\my_root\\lib\\site-packages\\numpy\\core\\fromnumeric.py:2495: FutureWarning: Method .ptp is deprecated and will be removed in a future version. Use numpy.ptp instead.\n",
      "  return ptp(axis=axis, out=out, **kwargs)\n",
      "C:\\Users\\aikoo\\AppData\\Local\\conda\\conda\\envs\\my_root\\lib\\site-packages\\scipy\\stats\\stats.py:1416: UserWarning: kurtosistest only valid for n>=20 ... continuing anyway, n=12\n",
      "  \"anyway, n=%i\" % int(n))\n"
     ]
    },
    {
     "name": "stdout",
     "output_type": "stream",
     "text": [
      "                            OLS Regression Results                            \n",
      "==============================================================================\n",
      "Dep. Variable:                Продажи   R-squared:                       0.972\n",
      "Model:                            OLS   Adj. R-squared:                  0.848\n",
      "Method:                 Least Squares   F-statistic:                     7.806\n",
      "Date:                Tue, 10 Dec 2019   Prob (F-statistic):              0.119\n",
      "Time:                        13:19:58   Log-Likelihood:                -62.798\n",
      "No. Observations:                  12   AIC:                             145.6\n",
      "Df Residuals:                       2   BIC:                             150.4\n",
      "Df Model:                           9                                         \n",
      "Covariance Type:            nonrobust                                         \n",
      "======================================================================================\n",
      "                         coef    std err          t      P>|t|      [0.025      0.975]\n",
      "--------------------------------------------------------------------------------------\n",
      "const               2721.6803   1260.384      2.159      0.163   -2701.315    8144.676\n",
      "Сезонность           -37.3772   1056.593     -0.035      0.975   -4583.530    4508.775\n",
      "Поиск                 -0.0038      0.063     -0.061      0.957      -0.276       0.268\n",
      "Интернет              -0.0092      0.066     -0.140      0.901      -0.292       0.274\n",
      "Наружка                0.1697      0.095      1.786      0.216      -0.239       0.579\n",
      "Рекламные контакты     0.1214      0.252      0.483      0.677      -0.961       1.204\n",
      "Средняя цена         -92.6819     32.300     -2.869      0.103    -231.659      46.295\n",
      "Промо                  0.5910      2.919      0.202      0.858     -11.970      13.152\n",
      "PR                    -0.5583      0.562     -0.994      0.425      -2.975       1.859\n",
      "Публикации             0.8492      1.385      0.613      0.602      -5.109       6.807\n",
      "==============================================================================\n",
      "Omnibus:                        0.068   Durbin-Watson:                   3.104\n",
      "Prob(Omnibus):                  0.967   Jarque-Bera (JB):                0.098\n",
      "Skew:                           0.039   Prob(JB):                        0.952\n",
      "Kurtosis:                       2.564   Cond. No.                     1.04e+06\n",
      "==============================================================================\n",
      "\n",
      "Warnings:\n",
      "[1] Standard Errors assume that the covariance matrix of the errors is correctly specified.\n",
      "[2] The condition number is large, 1.04e+06. This might indicate that there are\n",
      "strong multicollinearity or other numerical problems.\n"
     ]
    },
    {
     "data": {
      "image/png": "[encoded data removed]",
      "text/plain": [
       "<Figure size 432x288 with 1 Axes>"
      ]
     },
     "metadata": {
      "needs_background": "light"
     },
     "output_type": "display_data"
    }
   ],
   "source": [
    "Y=df['Продажи']\n",
    "X=df[['Сезонность','Поиск','Интернет', 'Наружка', 'Рекламные контакты',\n",
    "        'Средняя цена','Промо','PR','Публикации']]\n",
    "X=sm.add_constant(X)\n",
    "\n",
    "reg = sm.OLS(Y, X)\n",
    "res=reg.fit()\n",
    "print(res.summary())\n",
    "r=res.predict(X)\n",
    "r=np.array(res)\n",
    "sns.regplot(res.fittedvalues.copy(), Y)\n",
    "plt.show()"
   ]
  },
  {
   "cell_type": "markdown",
   "metadata": {},
   "source": [
    "Модель \"обругала\" нас за небольшое количество строк в датасете. Увы, что есть. \n",
    "\n",
    "Также модель получилась не адекватной. Так как P>|t| больше 0.05, а t для некоторых переменных не выходит за диапазон -2..+2. На эти две метрики обязательно надо обращать внимание для оценки адекватности и значимости модели. Именно они позволяют выявить и исключить переменные, которые с большой вероятностью не оказывают значимого влияния на целевую переменную. \n",
    "\n",
    "Ниже расшифровка части важной информации по итогам работы модели. Эти показатели позволяют оценить ее качество и адекватность. "
   ]
  },
  {
   "cell_type": "markdown",
   "metadata": {},
   "source": [
    "**AIC** - информационный критерий. Корректирует логарифмическую вероятность на основе количества наблюдений и сложности модели. Чем меньше значение, тем лучше.\n",
    "\n",
    "**BIC** - информационный критерий.  Похож на AIC, но имеет более высокий штраф для моделей с большим количеством параметров. Чем меньше значение, тем лучше.\n",
    "\n",
    "**Omnibus** - тест на асимметрию и эксцесс остатков. Мы надеемся увидеть значение, близкое к нулю, которое указывало бы на нормальность. **The Prob (Omnibus)** выполняет статистический тест, показывающий вероятность того, что остатки нормально распределены. Мы надеемся увидеть что-то близкое к 1 здесь. В случае если Omnibus относительно низок, а Prob (Omnibus) относительно высок, остатки в целом нормальны, но не идеальны. Подход с линейной регрессией, вероятно, будет лучше, чем случайное угадывание, но, вероятно, хуже нелинейных подходов.\n",
    "\n",
    "**Skew** -  мера симметрии данных. Мы хотим видеть что-то близкое к нулю, что указывает, что остаточное распределение нормально.\n",
    "\n",
    "**Kurtosis** - это мера «пиковости» или кривизны данных. Более высокие пики приводят к большему куртозу. Большой куртоз можно интерпретировать как более плотную кластеризацию остатков около нуля, что подразумевает лучшую модель с небольшим количеством выбросов (те чем больше, тем лучше).\n",
    "\n",
    "**Cond. No.** - значения больше 20 вызывают подозрения в мультиколлинеарности. Чаще всего, сложно пройти данный тест. Чем меньше, тем лучше.\n",
    "\n",
    "**R2** - насколько переменные хорошо объясняют разброс оценок. Максимальное занчение 1. Но при значениях более 0.9 надо крайне внимательно проверить на эффект мультиколлинеарности.\n",
    "\n",
    "**Durbin-Watson** - тест на наличие автокореляции в остатках. В идеале значение должно стремиться к 2 (минимальное значение 0, максимальное 4). Значения меньше 0.8 однозначно указывают на циклические колебания в остатках. Эмпирически считается, что статистика лежит в нормальных пределах, если больше 1.5 и меньше 2.5. \n",
    "\n",
    "**Jarque-Bera (JB)** - Тест на нормальность остатков. Используется на больших наборах данных, более 2000. По своей сути аналогичен Omnibus.\n",
    "\n",
    "Пойдем другим путем, напишем немного кода, который будет перебирать все варианты сочетания переменных для поиска наиболее точной модели. "
   ]
  },
  {
   "cell_type": "code",
   "execution_count": 46,
   "metadata": {},
   "outputs": [
    {
     "name": "stdout",
     "output_type": "stream",
     "text": [
      "Количество комбинаций  512\n"
     ]
    }
   ],
   "source": [
    "from itertools import compress, product\n",
    "from statsmodels.stats.outliers_influence import variance_inflation_factor\n",
    "\n",
    "#небольшая функция для построения набора комбинаций переменных\n",
    "def combinations(items):\n",
    "    return list( set(compress(items,mask)) for mask in product(*[[0,1]]*len(items)) )\n",
    "\n",
    "# колонки, которые показали свою значимость в процессе отбора критериев\n",
    "# переменная spisCol хранит варианты комбинаций все переменных\n",
    "spisCol=combinations(['Сезонность','Поиск','Интернет',\n",
    "                    'Наружка', 'Рекламные контакты',\n",
    "                     'Средняя цена','Промо','PR','Публикации'])\n",
    "\n",
    "print('Количество комбинаций ', len(spisCol))"
   ]
  },
  {
   "cell_type": "markdown",
   "metadata": {},
   "source": [
    "Обратите внимание, если количество комбинаций велико (например, больше 64 000), время их перебора может быть крайне большим (слжность растет по экспоненте). В этом случае, уменьшайте количество переменных для перебора. \n",
    "\n",
    "По полученным комбинациям построим модели и отбросим варианты с явной мультиколинеарностью (будем использовать меру VIF)."
   ]
  },
  {
   "cell_type": "code",
   "execution_count": 47,
   "metadata": {},
   "outputs": [
    {
     "name": "stdout",
     "output_type": "stream",
     "text": [
      "Результаты перебора в порядке возрастания MSE:\n"
     ]
    },
    {
     "data": {
      "text/html": [
       "<div>\n",
       "<style scoped>\n",
       "    .dataframe tbody tr th:only-of-type {\n",
       "        vertical-align: middle;\n",
       "    }\n",
       "\n",
       "    .dataframe tbody tr th {\n",
       "        vertical-align: top;\n",
       "    }\n",
       "\n",
       "    .dataframe thead th {\n",
       "        text-align: right;\n",
       "    }\n",
       "</style>\n",
       "<table border=\"1\" class=\"dataframe\">\n",
       "  <thead>\n",
       "    <tr style=\"text-align: right;\">\n",
       "      <th></th>\n",
       "      <th>MSE</th>\n",
       "      <th>r2</th>\n",
       "      <th>Переменные</th>\n",
       "    </tr>\n",
       "  </thead>\n",
       "  <tbody>\n",
       "    <tr>\n",
       "      <th>0</th>\n",
       "      <td>3800.0079</td>\n",
       "      <td>0.948835</td>\n",
       "      <td>[Промо, Наружка, Средняя цена, const]</td>\n",
       "    </tr>\n",
       "    <tr>\n",
       "      <th>1</th>\n",
       "      <td>11396.9074</td>\n",
       "      <td>0.846547</td>\n",
       "      <td>[Рекламные контакты, Средняя цена, const]</td>\n",
       "    </tr>\n",
       "    <tr>\n",
       "      <th>2</th>\n",
       "      <td>18848.6806</td>\n",
       "      <td>0.746213</td>\n",
       "      <td>[Средняя цена, const]</td>\n",
       "    </tr>\n",
       "  </tbody>\n",
       "</table>\n",
       "</div>"
      ],
      "text/plain": [
       "          MSE        r2                                 Переменные\n",
       "0   3800.0079  0.948835      [Промо, Наружка, Средняя цена, const]\n",
       "1  11396.9074  0.846547  [Рекламные контакты, Средняя цена, const]\n",
       "2  18848.6806  0.746213                      [Средняя цена, const]"
      ]
     },
     "execution_count": 47,
     "metadata": {},
     "output_type": "execute_result"
    }
   ],
   "source": [
    "#добавим константу в набор данных, нужна для рассчета регрессии\n",
    "df=sm.add_constant(df)\n",
    "\n",
    "#сохраним в этом списке данные лучших моделей\n",
    "arr_res=[]\n",
    "\n",
    "#пробежимся циклом по всем вариантам комбинаций\n",
    "for c in spisCol:\n",
    "    perem=list(c)\n",
    "    flag=True\n",
    "    \n",
    "    if len(perem)==0: continue\n",
    "        \n",
    "    if not('const' in c):\n",
    "        perem.append('const')\n",
    "        \n",
    "    # если больше одного клитерия, рассчитаем VIF    \n",
    "    if len(perem)>1:\n",
    "        vif = [variance_inflation_factor(df[perem].values, i) for i in range(df[perem].shape[1])]\n",
    "    else:\n",
    "        vif=[]\n",
    "    \n",
    "    #проверим список VIF, если хоть одна переменная больше 1000 (очень большое значение, на самом деле),\n",
    "    #то в модели присутсвует мультиколлинераность\n",
    "    for vv in vif:\n",
    "        if vv>1000: \n",
    "            flag=False\n",
    "        \n",
    "    #посчитаем саму модель\n",
    "    reg = sm.OLS(Y, df[perem])\n",
    "    res=reg.fit()\n",
    "\n",
    "    #отбросим нулевую гипотезу для всех регрессоров конкретной модели\n",
    "    for val in res.tvalues:\n",
    "        if val<2 and val>-2:\n",
    "            flag=False\n",
    "            break\n",
    "    for val in res.pvalues:\n",
    "        if val>0.05:\n",
    "            flag=False\n",
    "            break\n",
    "    #если нулевую гипотезу отбросили и VIF в норме, сохраним результаты\n",
    "    if flag:\n",
    "        re=np.array(res.fittedvalues.copy())\n",
    "        MSE=((np.array(Y)-re)**2).sum()/len(re)\n",
    "            \n",
    "        MAPE=(abs((np.array(Y)-re)/np.array(Y))).sum()/len(re)\n",
    "        \n",
    "        arr_res.append([round(MSE,4), res.rsquared, perem])\n",
    "\n",
    "#отсортируем и выведем результаты\n",
    "arr_res.sort()\n",
    "df_model=pd.DataFrame(arr_res, columns=['MSE', 'r2', 'Переменные'])\n",
    "print('Результаты перебора в порядке возрастания MSE:')\n",
    "df_model"
   ]
  },
  {
   "cell_type": "markdown",
   "metadata": {},
   "source": [
    "Первая модель имеет очень высокий R2 и самую низкую величину среднеквадратической ошибки (MSE). Именно эту модель реализуем и оценим ее правдоподобность. \n",
    "\n",
    "Вы можете попробовать построить и сравнить между собой модели с другим набором регрессоров. "
   ]
  },
  {
   "cell_type": "code",
   "execution_count": 48,
   "metadata": {},
   "outputs": [
    {
     "name": "stdout",
     "output_type": "stream",
     "text": [
      "                            OLS Regression Results                            \n",
      "==============================================================================\n",
      "Dep. Variable:                Продажи   R-squared:                       0.949\n",
      "Model:                            OLS   Adj. R-squared:                  0.930\n",
      "Method:                 Least Squares   F-statistic:                     49.45\n",
      "Date:                Tue, 10 Dec 2019   Prob (F-statistic):           1.65e-05\n",
      "Time:                        18:54:19   Log-Likelihood:                -66.484\n",
      "No. Observations:                  12   AIC:                             141.0\n",
      "Df Residuals:                       8   BIC:                             142.9\n",
      "Df Model:                           3                                         \n",
      "Covariance Type:            nonrobust                                         \n",
      "================================================================================\n",
      "                   coef    std err          t      P>|t|      [0.025      0.975]\n",
      "--------------------------------------------------------------------------------\n",
      "Промо            3.5970      0.648      5.552      0.001       2.103       5.091\n",
      "Средняя цена  -111.8987     17.722     -6.314      0.000    -152.765     -71.032\n",
      "Наружка          0.1866      0.042      4.495      0.002       0.091       0.282\n",
      "const         3650.9182    654.821      5.575      0.001    2140.897    5160.939\n",
      "==============================================================================\n",
      "Omnibus:                        1.769   Durbin-Watson:                   2.967\n",
      "Prob(Omnibus):                  0.413   Jarque-Bera (JB):                0.765\n",
      "Skew:                          -0.617   Prob(JB):                        0.682\n",
      "Kurtosis:                       2.912   Cond. No.                     1.29e+05\n",
      "==============================================================================\n",
      "\n",
      "Warnings:\n",
      "[1] Standard Errors assume that the covariance matrix of the errors is correctly specified.\n",
      "[2] The condition number is large, 1.29e+05. This might indicate that there are\n",
      "strong multicollinearity or other numerical problems.\n"
     ]
    },
    {
     "data": {
      "image/png": "[encoded data removed]",
      "text/plain": [
       "<Figure size 432x288 with 1 Axes>"
      ]
     },
     "metadata": {
      "needs_background": "light"
     },
     "output_type": "display_data"
    }
   ],
   "source": [
    "Y=df['Продажи']\n",
    "#укажем пермеенные, которые будем использовать в качестве регрессоров\n",
    "X=df[['Промо', 'Средняя цена', 'Наружка', 'const']]\n",
    "reg = sm.OLS(Y, X)\n",
    "res=reg.fit()\n",
    "print(res.summary())\n",
    "sns.regplot(res.fittedvalues.copy(), Y)\n",
    "plt.show()"
   ]
  },
  {
   "cell_type": "markdown",
   "metadata": {},
   "source": [
    "Модель в целом не идеальная, но позволяет луше понять основные причинно следственные связи в рекламном процессе. Так, если судить по модели, то три переменные на 94,9% объясняют вариации продаж. Где ключевой фактор продаж - снижение цены. Снижение цены на 1 тыс рублей увеличивает продажи 112 единиц (и наоборот). Каждая инвестированная в наружную рекламу тысяча приносит 0.1866 продаж. А факт проведения промо дает 3.59 продаж. Здесь, надо понимать, что факт проведения промо влияет (включен) в среднюю цену, что приводит к ухудшени качества модели. Одно, можно сказать однозначно, что не смотря на большие инвестиции в рекламу, чуть ли не основным фактором продаж является, если судить по математической модели, цена. \n",
    "\n",
    "Для того, чтобы поднять качество модели надо поработать над формированием новых признаков и увеличения датасета на регулярной основе. И это здорово само по себе, так как через статистический анализ компания начинает лучше понимать, какие действия и метрики являются ключевыми. Возможно, кто то не согласен с вываодами и готов собрать данные, чтобы доказать свою точку зрения. Поздравляю! Компания только что перешла на новый уровень управления и аргументации.\n",
    "\n",
    "Продолжение следует..."
   ]
  },
  {
   "cell_type": "code",
   "execution_count": null,
   "metadata": {},
   "outputs": [],
   "source": []
  }
 ],
 "metadata": {
  "kernelspec": {
   "display_name": "Python 3",
   "language": "python",
   "name": "python3"
  },
  "language_info": {
   "codemirror_mode": {
    "name": "ipython",
    "version": 3
   },
   "file_extension": ".py",
   "mimetype": "text/x-python",
   "name": "python",
   "nbconvert_exporter": "python",
   "pygments_lexer": "ipython3",
   "version": "3.6.8"
  }
 },
 "nbformat": 4,
 "nbformat_minor": 2
}
