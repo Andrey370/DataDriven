{
 "cells": [
  {
   "cell_type": "markdown",
   "metadata": {},
   "source": [
    "(С) Андрей Кулинич, 2019\n",
    "\n",
    "В целях кластеризации или обучения отдельных алгоритмов необходимо перевести категорийные признаки (оценки \"хорошо\", \"плохо\" и т.д. или названия ассортиментных групп) в количественные. В этом блокноте мы рассмотрим ряд подходов, которые вы сможете применить.\n",
    "\n",
    "Импортируем библиотеку pandas."
   ]
  },
  {
   "cell_type": "code",
   "execution_count": 15,
   "metadata": {},
   "outputs": [],
   "source": [
    "import pandas as pd"
   ]
  },
  {
   "cell_type": "markdown",
   "metadata": {},
   "source": [
    "Создадим DataFrame, который будет содержать как категорийные, так и количественные признаки."
   ]
  },
  {
   "cell_type": "code",
   "execution_count": 12,
   "metadata": {},
   "outputs": [
    {
     "data": {
      "text/html": [
       "<div>\n",
       "<style scoped>\n",
       "    .dataframe tbody tr th:only-of-type {\n",
       "        vertical-align: middle;\n",
       "    }\n",
       "\n",
       "    .dataframe tbody tr th {\n",
       "        vertical-align: top;\n",
       "    }\n",
       "\n",
       "    .dataframe thead th {\n",
       "        text-align: right;\n",
       "    }\n",
       "</style>\n",
       "<table border=\"1\" class=\"dataframe\">\n",
       "  <thead>\n",
       "    <tr style=\"text-align: right;\">\n",
       "      <th></th>\n",
       "      <th>Имя</th>\n",
       "      <th>Пол</th>\n",
       "      <th>Волосы</th>\n",
       "      <th>Английский</th>\n",
       "      <th>Возраст</th>\n",
       "    </tr>\n",
       "  </thead>\n",
       "  <tbody>\n",
       "    <tr>\n",
       "      <th>0</th>\n",
       "      <td>Иван</td>\n",
       "      <td>М</td>\n",
       "      <td>Шатен</td>\n",
       "      <td>Хорошо</td>\n",
       "      <td>18</td>\n",
       "    </tr>\n",
       "    <tr>\n",
       "      <th>1</th>\n",
       "      <td>Петр</td>\n",
       "      <td>М</td>\n",
       "      <td>Блонд</td>\n",
       "      <td>Хорошо</td>\n",
       "      <td>19</td>\n",
       "    </tr>\n",
       "    <tr>\n",
       "      <th>2</th>\n",
       "      <td>Мария</td>\n",
       "      <td>Ж</td>\n",
       "      <td>Рыжий</td>\n",
       "      <td>Отлично</td>\n",
       "      <td>18</td>\n",
       "    </tr>\n",
       "    <tr>\n",
       "      <th>3</th>\n",
       "      <td>Ирина</td>\n",
       "      <td>Ж</td>\n",
       "      <td>Блонд</td>\n",
       "      <td>Не владеет</td>\n",
       "      <td>20</td>\n",
       "    </tr>\n",
       "  </tbody>\n",
       "</table>\n",
       "</div>"
      ],
      "text/plain": [
       "     Имя Пол Волосы  Английский  Возраст\n",
       "0   Иван   М  Шатен      Хорошо       18\n",
       "1   Петр   М  Блонд      Хорошо       19\n",
       "2  Мария   Ж  Рыжий     Отлично       18\n",
       "3  Ирина   Ж  Блонд  Не владеет       20"
      ]
     },
     "execution_count": 12,
     "metadata": {},
     "output_type": "execute_result"
    }
   ],
   "source": [
    "df = pd.DataFrame({'Имя':['Иван', 'Петр', 'Мария', 'Ирина'],\n",
    "                    'Пол':['М','М', 'Ж', 'Ж'], \n",
    "                    'Волосы':['Шатен', 'Блонд', 'Рыжий', 'Блонд'],\n",
    "                    'Английский':['Хорошо', 'Хорошо', 'Отлично', 'Не владеет'],\n",
    "                    'Возраст':[18, 19, 18, 20]})\n",
    "df"
   ]
  },
  {
   "cell_type": "markdown",
   "metadata": {},
   "source": [
    "## Самый простой способ\n",
    "\n",
    "Самый простой способ предполагает замену всех категорийных признаков на фиктивную (dummy) переменную. Фиктивная переменная может принимать значение только 0 или 1. Смотрите на примере ниже. \n",
    "\n",
    "Мы создаем новый DataFrame df_with_dummies, где автоматически все категорийные переменные будут заменены фиктивными. Столбцы с категорийными переменными также автоматически будут удалены. Дальше уже можно работать с преобразованным датафреймом."
   ]
  },
  {
   "cell_type": "code",
   "execution_count": 16,
   "metadata": {},
   "outputs": [
    {
     "data": {
      "text/html": [
       "<div>\n",
       "<style scoped>\n",
       "    .dataframe tbody tr th:only-of-type {\n",
       "        vertical-align: middle;\n",
       "    }\n",
       "\n",
       "    .dataframe tbody tr th {\n",
       "        vertical-align: top;\n",
       "    }\n",
       "\n",
       "    .dataframe thead th {\n",
       "        text-align: right;\n",
       "    }\n",
       "</style>\n",
       "<table border=\"1\" class=\"dataframe\">\n",
       "  <thead>\n",
       "    <tr style=\"text-align: right;\">\n",
       "      <th></th>\n",
       "      <th>Имя</th>\n",
       "      <th>Возраст</th>\n",
       "      <th>Пол_Ж</th>\n",
       "      <th>Пол_М</th>\n",
       "      <th>Волосы_Блонд</th>\n",
       "      <th>Волосы_Рыжий</th>\n",
       "      <th>Волосы_Шатен</th>\n",
       "      <th>Английский_Не владеет</th>\n",
       "      <th>Английский_Отлично</th>\n",
       "      <th>Английский_Хорошо</th>\n",
       "    </tr>\n",
       "  </thead>\n",
       "  <tbody>\n",
       "    <tr>\n",
       "      <th>0</th>\n",
       "      <td>Иван</td>\n",
       "      <td>18</td>\n",
       "      <td>0</td>\n",
       "      <td>1</td>\n",
       "      <td>0</td>\n",
       "      <td>0</td>\n",
       "      <td>1</td>\n",
       "      <td>0</td>\n",
       "      <td>0</td>\n",
       "      <td>1</td>\n",
       "    </tr>\n",
       "    <tr>\n",
       "      <th>1</th>\n",
       "      <td>Петр</td>\n",
       "      <td>19</td>\n",
       "      <td>0</td>\n",
       "      <td>1</td>\n",
       "      <td>1</td>\n",
       "      <td>0</td>\n",
       "      <td>0</td>\n",
       "      <td>0</td>\n",
       "      <td>0</td>\n",
       "      <td>1</td>\n",
       "    </tr>\n",
       "    <tr>\n",
       "      <th>2</th>\n",
       "      <td>Мария</td>\n",
       "      <td>18</td>\n",
       "      <td>1</td>\n",
       "      <td>0</td>\n",
       "      <td>0</td>\n",
       "      <td>1</td>\n",
       "      <td>0</td>\n",
       "      <td>0</td>\n",
       "      <td>1</td>\n",
       "      <td>0</td>\n",
       "    </tr>\n",
       "    <tr>\n",
       "      <th>3</th>\n",
       "      <td>Ирина</td>\n",
       "      <td>20</td>\n",
       "      <td>1</td>\n",
       "      <td>0</td>\n",
       "      <td>1</td>\n",
       "      <td>0</td>\n",
       "      <td>0</td>\n",
       "      <td>1</td>\n",
       "      <td>0</td>\n",
       "      <td>0</td>\n",
       "    </tr>\n",
       "  </tbody>\n",
       "</table>\n",
       "</div>"
      ],
      "text/plain": [
       "     Имя  Возраст  Пол_Ж  Пол_М  Волосы_Блонд  Волосы_Рыжий  Волосы_Шатен  \\\n",
       "0   Иван       18      0      1             0             0             1   \n",
       "1   Петр       19      0      1             1             0             0   \n",
       "2  Мария       18      1      0             0             1             0   \n",
       "3  Ирина       20      1      0             1             0             0   \n",
       "\n",
       "   Английский_Не владеет  Английский_Отлично  Английский_Хорошо  \n",
       "0                      0                   0                  1  \n",
       "1                      0                   0                  1  \n",
       "2                      0                   1                  0  \n",
       "3                      1                   0                  0  "
      ]
     },
     "execution_count": 16,
     "metadata": {},
     "output_type": "execute_result"
    }
   ],
   "source": [
    "df_with_dummies = pd.get_dummies(df, columns=['Пол', 'Волосы', 'Английский'])\n",
    "df_with_dummies"
   ]
  },
  {
   "cell_type": "markdown",
   "metadata": {},
   "source": [
    "В принципе, этого достаточно, но всегда можно лучше. Например, избежать лишних столбцов или получить другие эффекты.\n",
    "\n",
    "## Чуть сложнее\n",
    "\n",
    "Сформируем DataFrame df_work, где немного по-другому заменим столбцы с категорийными переменными. \n",
    "\n",
    "Во-первых, \"Пол\" имеет только два значения. А значит, закодировать его можем только одним столбцом. Для этого удалим одно из значений. Это можно сделать следующей командой. "
   ]
  },
  {
   "cell_type": "code",
   "execution_count": 14,
   "metadata": {},
   "outputs": [
    {
     "data": {
      "text/html": [
       "<div>\n",
       "<style scoped>\n",
       "    .dataframe tbody tr th:only-of-type {\n",
       "        vertical-align: middle;\n",
       "    }\n",
       "\n",
       "    .dataframe tbody tr th {\n",
       "        vertical-align: top;\n",
       "    }\n",
       "\n",
       "    .dataframe thead th {\n",
       "        text-align: right;\n",
       "    }\n",
       "</style>\n",
       "<table border=\"1\" class=\"dataframe\">\n",
       "  <thead>\n",
       "    <tr style=\"text-align: right;\">\n",
       "      <th></th>\n",
       "      <th>М</th>\n",
       "    </tr>\n",
       "  </thead>\n",
       "  <tbody>\n",
       "    <tr>\n",
       "      <th>0</th>\n",
       "      <td>1</td>\n",
       "    </tr>\n",
       "    <tr>\n",
       "      <th>1</th>\n",
       "      <td>1</td>\n",
       "    </tr>\n",
       "    <tr>\n",
       "      <th>2</th>\n",
       "      <td>0</td>\n",
       "    </tr>\n",
       "    <tr>\n",
       "      <th>3</th>\n",
       "      <td>0</td>\n",
       "    </tr>\n",
       "  </tbody>\n",
       "</table>\n",
       "</div>"
      ],
      "text/plain": [
       "   М\n",
       "0  1\n",
       "1  1\n",
       "2  0\n",
       "3  0"
      ]
     },
     "execution_count": 14,
     "metadata": {},
     "output_type": "execute_result"
    }
   ],
   "source": [
    "pd.get_dummies(df['Пол'], drop_first=True)"
   ]
  },
  {
   "cell_type": "markdown",
   "metadata": {},
   "source": [
    "Создадим столбец \"Пол_код\", где мужской пол будет закодирован единицей."
   ]
  },
  {
   "cell_type": "code",
   "execution_count": 21,
   "metadata": {},
   "outputs": [
    {
     "data": {
      "text/html": [
       "<div>\n",
       "<style scoped>\n",
       "    .dataframe tbody tr th:only-of-type {\n",
       "        vertical-align: middle;\n",
       "    }\n",
       "\n",
       "    .dataframe tbody tr th {\n",
       "        vertical-align: top;\n",
       "    }\n",
       "\n",
       "    .dataframe thead th {\n",
       "        text-align: right;\n",
       "    }\n",
       "</style>\n",
       "<table border=\"1\" class=\"dataframe\">\n",
       "  <thead>\n",
       "    <tr style=\"text-align: right;\">\n",
       "      <th></th>\n",
       "      <th>Имя</th>\n",
       "      <th>Пол</th>\n",
       "      <th>Волосы</th>\n",
       "      <th>Английский</th>\n",
       "      <th>Возраст</th>\n",
       "      <th>Пол_код</th>\n",
       "    </tr>\n",
       "  </thead>\n",
       "  <tbody>\n",
       "    <tr>\n",
       "      <th>0</th>\n",
       "      <td>Иван</td>\n",
       "      <td>М</td>\n",
       "      <td>Шатен</td>\n",
       "      <td>Хорошо</td>\n",
       "      <td>18</td>\n",
       "      <td>1</td>\n",
       "    </tr>\n",
       "    <tr>\n",
       "      <th>1</th>\n",
       "      <td>Петр</td>\n",
       "      <td>М</td>\n",
       "      <td>Блонд</td>\n",
       "      <td>Хорошо</td>\n",
       "      <td>19</td>\n",
       "      <td>1</td>\n",
       "    </tr>\n",
       "    <tr>\n",
       "      <th>2</th>\n",
       "      <td>Мария</td>\n",
       "      <td>Ж</td>\n",
       "      <td>Рыжий</td>\n",
       "      <td>Отлично</td>\n",
       "      <td>18</td>\n",
       "      <td>0</td>\n",
       "    </tr>\n",
       "    <tr>\n",
       "      <th>3</th>\n",
       "      <td>Ирина</td>\n",
       "      <td>Ж</td>\n",
       "      <td>Блонд</td>\n",
       "      <td>Не владеет</td>\n",
       "      <td>20</td>\n",
       "      <td>0</td>\n",
       "    </tr>\n",
       "  </tbody>\n",
       "</table>\n",
       "</div>"
      ],
      "text/plain": [
       "     Имя Пол Волосы  Английский  Возраст  Пол_код\n",
       "0   Иван   М  Шатен      Хорошо       18        1\n",
       "1   Петр   М  Блонд      Хорошо       19        1\n",
       "2  Мария   Ж  Рыжий     Отлично       18        0\n",
       "3  Ирина   Ж  Блонд  Не владеет       20        0"
      ]
     },
     "execution_count": 21,
     "metadata": {},
     "output_type": "execute_result"
    }
   ],
   "source": [
    "df_work=df #сделаем копию нашего исходного DataFrame\n",
    "df_work['Пол_код']=pd.get_dummies(df_work['Пол'], drop_first=True)\n",
    "df_work"
   ]
  },
  {
   "cell_type": "markdown",
   "metadata": {},
   "source": [
    "Если цвет мы должны кодировать именно фиктивными переменными, то знание языка мы можем закодировать порядковыми номерами. Поясню: если цвет волос \"Шатен\" закодирован номером 0, \"Блонд\" - 2, \"Рыжий\" - 3, то это ошибка, так как это разные цвета. Между \"Блонд\" и \"Шатен\" расстояние не больше, чем между \"Блонд\" и \"Рыжий\". А вот между знанием хорошо и отлично английского языка действительно может быть меньше, чем полное незнание языка и отличное им владение. \n",
    "\n",
    "Можно использовать метод factorize: он автоматически сформирует список, который можно использовать как значения столбца."
   ]
  },
  {
   "cell_type": "code",
   "execution_count": 22,
   "metadata": {},
   "outputs": [
    {
     "data": {
      "text/plain": [
       "(array([0, 0, 1, 2], dtype=int64),\n",
       " Index(['Хорошо', 'Отлично', 'Не владеет'], dtype='object'))"
      ]
     },
     "execution_count": 22,
     "metadata": {},
     "output_type": "execute_result"
    }
   ],
   "source": [
    "pd.factorize(df['Английский'])"
   ]
  },
  {
   "cell_type": "markdown",
   "metadata": {},
   "source": [
    "Названия групп товаров можно кодировать через среднюю цену этой группы. Но можно и самим сформировать словарь с кодами. В этом случае вы управляете тем, что и под каким номером будет закодировано."
   ]
  },
  {
   "cell_type": "code",
   "execution_count": 11,
   "metadata": {},
   "outputs": [
    {
     "data": {
      "text/plain": [
       "0    2\n",
       "1    2\n",
       "2    3\n",
       "3    0\n",
       "Name: Английский, dtype: int64"
      ]
     },
     "execution_count": 11,
     "metadata": {},
     "output_type": "execute_result"
    }
   ],
   "source": [
    "dic={'Не владеет':0, 'Плохо':1, 'Хорошо':2, 'Отлично':3}\n",
    "df['Английский'].map(dic)"
   ]
  },
  {
   "cell_type": "markdown",
   "metadata": {},
   "source": [
    "Итак, сформируем итоговый датасет df_work. \n",
    "\n",
    "Добавим столбец \"Уровень английского\"."
   ]
  },
  {
   "cell_type": "code",
   "execution_count": 23,
   "metadata": {},
   "outputs": [
    {
     "data": {
      "text/html": [
       "<div>\n",
       "<style scoped>\n",
       "    .dataframe tbody tr th:only-of-type {\n",
       "        vertical-align: middle;\n",
       "    }\n",
       "\n",
       "    .dataframe tbody tr th {\n",
       "        vertical-align: top;\n",
       "    }\n",
       "\n",
       "    .dataframe thead th {\n",
       "        text-align: right;\n",
       "    }\n",
       "</style>\n",
       "<table border=\"1\" class=\"dataframe\">\n",
       "  <thead>\n",
       "    <tr style=\"text-align: right;\">\n",
       "      <th></th>\n",
       "      <th>Имя</th>\n",
       "      <th>Пол</th>\n",
       "      <th>Волосы</th>\n",
       "      <th>Английский</th>\n",
       "      <th>Возраст</th>\n",
       "      <th>Пол_код</th>\n",
       "      <th>Уровень английского</th>\n",
       "    </tr>\n",
       "  </thead>\n",
       "  <tbody>\n",
       "    <tr>\n",
       "      <th>0</th>\n",
       "      <td>Иван</td>\n",
       "      <td>М</td>\n",
       "      <td>Шатен</td>\n",
       "      <td>Хорошо</td>\n",
       "      <td>18</td>\n",
       "      <td>1</td>\n",
       "      <td>2</td>\n",
       "    </tr>\n",
       "    <tr>\n",
       "      <th>1</th>\n",
       "      <td>Петр</td>\n",
       "      <td>М</td>\n",
       "      <td>Блонд</td>\n",
       "      <td>Хорошо</td>\n",
       "      <td>19</td>\n",
       "      <td>1</td>\n",
       "      <td>2</td>\n",
       "    </tr>\n",
       "    <tr>\n",
       "      <th>2</th>\n",
       "      <td>Мария</td>\n",
       "      <td>Ж</td>\n",
       "      <td>Рыжий</td>\n",
       "      <td>Отлично</td>\n",
       "      <td>18</td>\n",
       "      <td>0</td>\n",
       "      <td>3</td>\n",
       "    </tr>\n",
       "    <tr>\n",
       "      <th>3</th>\n",
       "      <td>Ирина</td>\n",
       "      <td>Ж</td>\n",
       "      <td>Блонд</td>\n",
       "      <td>Не владеет</td>\n",
       "      <td>20</td>\n",
       "      <td>0</td>\n",
       "      <td>0</td>\n",
       "    </tr>\n",
       "  </tbody>\n",
       "</table>\n",
       "</div>"
      ],
      "text/plain": [
       "     Имя Пол Волосы  Английский  Возраст  Пол_код  Уровень английского\n",
       "0   Иван   М  Шатен      Хорошо       18        1                    2\n",
       "1   Петр   М  Блонд      Хорошо       19        1                    2\n",
       "2  Мария   Ж  Рыжий     Отлично       18        0                    3\n",
       "3  Ирина   Ж  Блонд  Не владеет       20        0                    0"
      ]
     },
     "execution_count": 23,
     "metadata": {},
     "output_type": "execute_result"
    }
   ],
   "source": [
    "df_work['Уровень английского']=df['Английский'].map(dic)\n",
    "df_work"
   ]
  },
  {
   "cell_type": "markdown",
   "metadata": {},
   "source": [
    "Удалим столбцы \"Английский\" и \"Пол\"."
   ]
  },
  {
   "cell_type": "code",
   "execution_count": 25,
   "metadata": {},
   "outputs": [
    {
     "data": {
      "text/html": [
       "<div>\n",
       "<style scoped>\n",
       "    .dataframe tbody tr th:only-of-type {\n",
       "        vertical-align: middle;\n",
       "    }\n",
       "\n",
       "    .dataframe tbody tr th {\n",
       "        vertical-align: top;\n",
       "    }\n",
       "\n",
       "    .dataframe thead th {\n",
       "        text-align: right;\n",
       "    }\n",
       "</style>\n",
       "<table border=\"1\" class=\"dataframe\">\n",
       "  <thead>\n",
       "    <tr style=\"text-align: right;\">\n",
       "      <th></th>\n",
       "      <th>Имя</th>\n",
       "      <th>Волосы</th>\n",
       "      <th>Возраст</th>\n",
       "      <th>Пол_код</th>\n",
       "      <th>Уровень английского</th>\n",
       "    </tr>\n",
       "  </thead>\n",
       "  <tbody>\n",
       "    <tr>\n",
       "      <th>0</th>\n",
       "      <td>Иван</td>\n",
       "      <td>Шатен</td>\n",
       "      <td>18</td>\n",
       "      <td>1</td>\n",
       "      <td>2</td>\n",
       "    </tr>\n",
       "    <tr>\n",
       "      <th>1</th>\n",
       "      <td>Петр</td>\n",
       "      <td>Блонд</td>\n",
       "      <td>19</td>\n",
       "      <td>1</td>\n",
       "      <td>2</td>\n",
       "    </tr>\n",
       "    <tr>\n",
       "      <th>2</th>\n",
       "      <td>Мария</td>\n",
       "      <td>Рыжий</td>\n",
       "      <td>18</td>\n",
       "      <td>0</td>\n",
       "      <td>3</td>\n",
       "    </tr>\n",
       "    <tr>\n",
       "      <th>3</th>\n",
       "      <td>Ирина</td>\n",
       "      <td>Блонд</td>\n",
       "      <td>20</td>\n",
       "      <td>0</td>\n",
       "      <td>0</td>\n",
       "    </tr>\n",
       "  </tbody>\n",
       "</table>\n",
       "</div>"
      ],
      "text/plain": [
       "     Имя Волосы  Возраст  Пол_код  Уровень английского\n",
       "0   Иван  Шатен       18        1                    2\n",
       "1   Петр  Блонд       19        1                    2\n",
       "2  Мария  Рыжий       18        0                    3\n",
       "3  Ирина  Блонд       20        0                    0"
      ]
     },
     "execution_count": 25,
     "metadata": {},
     "output_type": "execute_result"
    }
   ],
   "source": [
    "df_work.drop(['Пол', 'Английский'], axis=1, inplace=True)\n",
    "df_work"
   ]
  },
  {
   "cell_type": "markdown",
   "metadata": {},
   "source": [
    "Закодируем dummy переменными цвет волос."
   ]
  },
  {
   "cell_type": "code",
   "execution_count": 27,
   "metadata": {},
   "outputs": [
    {
     "data": {
      "text/html": [
       "<div>\n",
       "<style scoped>\n",
       "    .dataframe tbody tr th:only-of-type {\n",
       "        vertical-align: middle;\n",
       "    }\n",
       "\n",
       "    .dataframe tbody tr th {\n",
       "        vertical-align: top;\n",
       "    }\n",
       "\n",
       "    .dataframe thead th {\n",
       "        text-align: right;\n",
       "    }\n",
       "</style>\n",
       "<table border=\"1\" class=\"dataframe\">\n",
       "  <thead>\n",
       "    <tr style=\"text-align: right;\">\n",
       "      <th></th>\n",
       "      <th>Имя</th>\n",
       "      <th>Возраст</th>\n",
       "      <th>Пол_код</th>\n",
       "      <th>Уровень английского</th>\n",
       "      <th>Волосы_Блонд</th>\n",
       "      <th>Волосы_Рыжий</th>\n",
       "      <th>Волосы_Шатен</th>\n",
       "    </tr>\n",
       "  </thead>\n",
       "  <tbody>\n",
       "    <tr>\n",
       "      <th>0</th>\n",
       "      <td>Иван</td>\n",
       "      <td>18</td>\n",
       "      <td>1</td>\n",
       "      <td>2</td>\n",
       "      <td>0</td>\n",
       "      <td>0</td>\n",
       "      <td>1</td>\n",
       "    </tr>\n",
       "    <tr>\n",
       "      <th>1</th>\n",
       "      <td>Петр</td>\n",
       "      <td>19</td>\n",
       "      <td>1</td>\n",
       "      <td>2</td>\n",
       "      <td>1</td>\n",
       "      <td>0</td>\n",
       "      <td>0</td>\n",
       "    </tr>\n",
       "    <tr>\n",
       "      <th>2</th>\n",
       "      <td>Мария</td>\n",
       "      <td>18</td>\n",
       "      <td>0</td>\n",
       "      <td>3</td>\n",
       "      <td>0</td>\n",
       "      <td>1</td>\n",
       "      <td>0</td>\n",
       "    </tr>\n",
       "    <tr>\n",
       "      <th>3</th>\n",
       "      <td>Ирина</td>\n",
       "      <td>20</td>\n",
       "      <td>0</td>\n",
       "      <td>0</td>\n",
       "      <td>1</td>\n",
       "      <td>0</td>\n",
       "      <td>0</td>\n",
       "    </tr>\n",
       "  </tbody>\n",
       "</table>\n",
       "</div>"
      ],
      "text/plain": [
       "     Имя  Возраст  Пол_код  Уровень английского  Волосы_Блонд  Волосы_Рыжий  \\\n",
       "0   Иван       18        1                    2             0             0   \n",
       "1   Петр       19        1                    2             1             0   \n",
       "2  Мария       18        0                    3             0             1   \n",
       "3  Ирина       20        0                    0             1             0   \n",
       "\n",
       "   Волосы_Шатен  \n",
       "0             1  \n",
       "1             0  \n",
       "2             0  \n",
       "3             0  "
      ]
     },
     "execution_count": 27,
     "metadata": {},
     "output_type": "execute_result"
    }
   ],
   "source": [
    "df_work=pd.get_dummies(df_work, columns=['Волосы'])\n",
    "df_work"
   ]
  },
  {
   "cell_type": "markdown",
   "metadata": {},
   "source": [
    "Готово!"
   ]
  },
  {
   "cell_type": "code",
   "execution_count": null,
   "metadata": {},
   "outputs": [],
   "source": []
  }
 ],
 "metadata": {
  "kernelspec": {
   "display_name": "Python 3",
   "language": "python",
   "name": "python3"
  },
  "language_info": {
   "codemirror_mode": {
    "name": "ipython",
    "version": 3
   },
   "file_extension": ".py",
   "mimetype": "text/x-python",
   "name": "python",
   "nbconvert_exporter": "python",
   "pygments_lexer": "ipython3",
   "version": "3.6.7"
  }
 },
 "nbformat": 4,
 "nbformat_minor": 2
}
